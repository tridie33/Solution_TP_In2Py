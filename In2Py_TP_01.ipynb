{
 "cells": [
  {
   "cell_type": "markdown",
   "id": "9ecb2640",
   "metadata": {
    "id": "22f02e1a"
   },
   "source": [
    "\n",
    "### <center> <b> <span style=\"color:blue;\"> Travaux Pratiques: Variables, Types & Opérations </span> </b></center>"
   ]
  },
  {
   "cell_type": "markdown",
   "id": "f1c3b7be",
   "metadata": {
    "id": "ddc667e7"
   },
   "source": [
    "**Exercise 00:**  \n",
    ">\n",
    "\n",
    "  \n",
    "> 1. Déclarez une variable `prenom` et attribuez-lui une valeur.\n",
    "  > 2. Déclarez une variable `nom` et attribuez-lui une valeur.\n",
    "  > 3. Déclarez une variable `prenom_nom` et attribuez-lui une valeur.\n",
    "  > 4. Déclarez une variable `pays` et attribuez-lui une valeur.\n",
    "  > 5. Déclarez une variable `ville` et attribuez-lui une valeur.\n",
    "  > 6. Déclarez une variable `age` et attribuez-lui une valeur.\n",
    "  > 7. Déclarez une variable `annee` et attribuez-lui une valeur.\n",
    "  > 8. Déclarez une variable `est_marie` et attribuez-lui une valeur.\n",
    "  > 9. Déclarez une variable `est_vrai` et attribuez-lui une valeur.\n",
    "\n",
    "> Pour chacune des variables ci-dessus, affichez la valeur qu'elle contient à l'aide de la fonction `print()`.\n",
    "\n"
   ]
  },
  {
   "cell_type": "code",
   "execution_count": null,
   "id": "af9c5f44",
   "metadata": {
    "id": "ebd3951d"
   },
   "outputs": [],
   "source": [
    "prenom = \"Diane\"\n",
    "nom = 'TETEDE'\n",
    "prenom_nom = prenom + \" \" + nom\n",
    "pays = 'Slovénie'\n",
    "ville = \"Bled\"\n",
    "age = 18\n",
    "annee = 2021\n",
    "est_marie = \"Rouge\"\n",
    "est_vraie = True\n",
    "print(prenom)\n",
    "print('\\n')\n",
    "print(nom)\n",
    "print('\\n')\n",
    "print(prenom_nom)\n",
    "print('\\n')\n",
    "print(pays)\n",
    "print('\\n')\n",
    "print(ville)\n",
    "print('\\n')\n",
    "print(age)\n",
    "print('\\n')\n",
    "print(annee)\n",
    "print('\\n')\n",
    "print(est_marie)\n",
    "print('\\n')\n",
    "print(est_vraie)\n",
    "\n",
    "\n",
    "\n",
    "\n",
    "\n"
   ]
  },
  {
   "cell_type": "markdown",
   "id": "5bbc12e6",
   "metadata": {
    "id": "85eb4f96"
   },
   "source": [
    "**Exercise 01:** \n",
    "> Vérifiez le type de données de toutes vos variables à l'aide de la fonction intégrée `type()`.**\n"
   ]
  },
  {
   "cell_type": "code",
   "execution_count": null,
   "id": "9a2c240b",
   "metadata": {
    "id": "c5c47124"
   },
   "outputs": [],
   "source": [
    "type(prenom)\n",
    "type(nom)\n",
    "type(nom_prenom)\n",
    "type(ville)\n",
    "type(age)\n",
    "type (annee)\n",
    "type(est_marrie)\n",
    "type(est_vrai)\n",
    "# Décommenter pour avoir le type "
   ]
  },
  {
   "cell_type": "markdown",
   "id": "1f601f34",
   "metadata": {
    "id": "76cdc19b"
   },
   "source": [
    "**Exercise 02:** \n",
    "> Calculez la valeur de $y$ ($y = x^2 + 6x + 9$). Essayez d'utiliser différentes valeurs de $x$ et déterminez à quelle valeur de $x$ $y$ sera égal à 0.**"
   ]
  },
  {
   "cell_type": "code",
   "execution_count": 11,
   "id": "5d0a7d6c",
   "metadata": {
    "id": "fb4df11a"
   },
   "outputs": [
    {
     "name": "stdout",
     "output_type": "stream",
     "text": [
      "25\n",
      "\n",
      "\n",
      "16\n",
      "\n",
      "\n",
      "0\n",
      "\n",
      "\n"
     ]
    }
   ],
   "source": [
    "x=2\n",
    "y= x**2 + 6*x + 9\n",
    "print(y)\n",
    "print(\"\\n\")\n",
    "x=1\n",
    "y= x**2 + 6*x + 9\n",
    "print(y)\n",
    "print(\"\\n\")\n",
    "x=-3\n",
    "y= x**2 + 6*x + 9\n",
    "print(y)\n",
    "print(\"\\n\")\n",
    "\n"
   ]
  },
  {
   "cell_type": "markdown",
   "id": "040c54e9",
   "metadata": {
    "id": "8f40e3ab"
   },
   "source": [
    "**Exercise 03:** \n",
    ">    \n",
    "\n",
    "     1. Déclarez votre âge sous forme de variable entière\n",
    "     2. Déclarez votre taille en tant que variable flottante\n",
    "     3. Déclarez une variable qui stocke la base et la hauteur d'un triangle. Calculez l'aire de ce triangle (aire = 0,5 x b x h)."
   ]
  },
  {
   "cell_type": "code",
   "execution_count": null,
   "id": "c9cf9194",
   "metadata": {
    "id": "rpAlhgG_9A5z"
   },
   "outputs": [],
   "source": [
    "age = int(age)\n",
    "taille = float(taille)\n",
    "base = input(\"Entrer la base du triangle: \")\n",
    "hauteur = input(\"Entrer la hauteur du triangle: \")\n",
    "aire = 0.5 * float(base) * int(hauteur)\n",
    "print(aire)"
   ]
  },
  {
   "cell_type": "markdown",
   "id": "8cac2d88",
   "metadata": {
    "id": "9957391d"
   },
   "source": [
    "## *Astuce : recevoir les entrées de l'utilisateur *\n",
    "**Pour recevoir une entrée de l'utilisateur, nous utilisons `input()`.**.\n",
    "\n",
    "**Exemple**\n",
    "Recevez deux nombres en entrée de l'utilisateur et calculez leur puissance :\n",
    "```python\n",
    "base = input(\"Entrez une base : \")\n",
    "exposant = input(\"Entrez un exposant : \")\n",
    "resultat = float(base) ** float(exposant)\n",
    "print(f \"{base} à la puissance {exposant} = {résultat}\")\n",
    "```"
   ]
  },
  {
   "cell_type": "markdown",
   "id": "0ea03efd",
   "metadata": {
    "id": "0fb34716"
   },
   "source": [
    "**Exercise 04:** \n",
    "> **Write a small code that asks the user to enter the side $a$, the side $b$ and the side $c$ of a triangle. Calculate the perimeter of the triangle (perimeter = a + b + c).**"
   ]
  },
  {
   "cell_type": "code",
   "execution_count": 5,
   "id": "18ed77b6",
   "metadata": {
    "id": "6618f067"
   },
   "outputs": [
    {
     "name": "stdout",
     "output_type": "stream",
     "text": [
      "saisissez la première partie du triangle: 2\n",
      "saisissez la deuxième partie du triangle: 2\n",
      "saisissez la troisième partie du triangle: 2\n",
      "6\n"
     ]
    }
   ],
   "source": [
    "a = input(\"saisissez la première partie du triangle: \")\n",
    "b = input(\"saisissez la deuxième partie du triangle: \")\n",
    "c = input(\"saisissez la troisième partie du triangle: \")\n",
    "perimeter = int(a) + int(b) + int(c)\n",
    "print(\"perimetre = \"perimeter)"
   ]
  },
  {
   "cell_type": "markdown",
   "id": "fa623bc8",
   "metadata": {
    "id": "e482c15c"
   },
   "source": [
    "**Exercise 05:** \n",
    "> **Obtenez la longueur et la largeur d'un rectangle à l'aide de l'invite. Calculer sa `superficie` et son `perimetre`.**"
   ]
  },
  {
   "cell_type": "code",
   "execution_count": 13,
   "id": "0570dea9",
   "metadata": {
    "id": "286cec4c"
   },
   "outputs": [
    {
     "name": "stdout",
     "output_type": "stream",
     "text": [
      "entrer la longueur: 12\n",
      "entrer la largeur: 12\n",
      "superficie =  144.0\n",
      "perimetre =  24.0\n"
     ]
    }
   ],
   "source": [
    "longueur = input(\"entrer la longueur: \")\n",
    "largeur = input(\"entrer la largeur: \")\n",
    "superficie = float(longueur) * float(largeur)\n",
    "perimetre = float(longueur)  + float(largeur)\n",
    "print(\"superficie = \", superficie)\n",
    "print(\"perimetre = \", perimetre)"
   ]
  },
  {
   "cell_type": "markdown",
   "id": "1606a37a",
   "metadata": {
    "id": "cf15844c"
   },
   "source": [
    "**Exercice 06:** \n",
    "> **Obtenez le rayon d'un cercle en utilisant l'invite. Calculez l'aire (aire = pi x r x r) et la circonférence (c = 2 x pi x r) où pi = 3,14.**"
   ]
  },
  {
   "cell_type": "code",
   "execution_count": 16,
   "id": "770d7124",
   "metadata": {
    "id": "ee0ee85e"
   },
   "outputs": [
    {
     "name": "stdout",
     "output_type": "stream",
     "text": [
      "entrer le rayon : 12\n",
      "rayon =  12\n",
      "circonférence =  75.36\n"
     ]
    }
   ],
   "source": [
    "rayon = input(\"entrer le rayon : \")\n",
    "pi = 3.14\n",
    "pi = float(pi)    \n",
    "aire = pi * float(rayon) * float(rayon)\n",
    "circonference = 2 * pi * float(rayon)\n",
    "print(\"rayon = \", rayon)\n",
    "print(\"circonférence = \", circonference)\n"
   ]
  },
  {
   "cell_type": "markdown",
   "id": "1110c9aa",
   "metadata": {
    "id": "d9dec37a"
   },
   "source": [
    "**Exercice 07:**\n",
    "> **Calculez la pente, l'ordonnée à l'origine en x et l'ordonnée à l'origine en $y$ de $y = 2x -2$.**"
   ]
  },
  {
   "cell_type": "code",
   "execution_count": 19,
   "id": "3c8fb6aa",
   "metadata": {
    "id": "203e449c"
   },
   "outputs": [
    {
     "name": "stdout",
     "output_type": "stream",
     "text": [
      "la pente est :  2.0\n",
      "la pente à l'origine est:  -2\n",
      "la pente à l'ordonné est:  0\n"
     ]
    }
   ],
   "source": [
    "x_1 = 0\n",
    "y = 2*x_1 - 2\n",
    "y_1 = y\n",
    "x_2 = 1\n",
    "y = 2*x_2 - 2\n",
    "y_2 = y\n",
    "pente = (y_2 - y_1)/(x_2 - x_1)\n",
    "print(\"la pente est : \", pente)\n",
    "print(\"la pente à l'origine est: \", y_1)\n",
    "print(\"la pente à l'ordonné est: \", y_2)"
   ]
  },
  {
   "cell_type": "markdown",
   "id": "4dc4d374",
   "metadata": {
    "id": "2f74d685"
   },
   "source": [
    "**Exercice 08:** \n",
    "> **Rédigez un script qui demande à l'utilisateur d'entrer les heures et le taux horaire. Calculez la rémunération de la personne ?**"
   ]
  },
  {
   "cell_type": "code",
   "execution_count": 3,
   "id": "8b01452d",
   "metadata": {
    "id": "7cff5a0a"
   },
   "outputs": [
    {
     "name": "stdout",
     "output_type": "stream",
     "text": [
      "entrer les heures: 3\n",
      "entrer le taux horaire: 2000\n",
      "votre rémunération est:  6000\n"
     ]
    }
   ],
   "source": [
    "heure = input(\"entrer les heures: \")\n",
    "taux_horaire = input(\"entrer le taux horaire: \")\n",
    "remuneration = int(heure) * int (taux_horaire)\n",
    "print(\"votre rémunération est: \", remuneration)"
   ]
  },
  {
   "cell_type": "markdown",
   "id": "b273e06a",
   "metadata": {
    "id": "6ddd662c"
   },
   "source": [
    "**Exercice 09:** \n",
    "> **Écrivez un script qui demande à l'utilisateur d'entrer le nombre d'années. Calculez le nombre de secondes qu'une personne peut vivre. Supposons qu'une personne puisse vivre cent ans.**"
   ]
  },
  {
   "cell_type": "code",
   "execution_count": 8,
   "id": "d71e49f9",
   "metadata": {
    "id": "44c2a63c"
   },
   "outputs": [
    {
     "name": "stdout",
     "output_type": "stream",
     "text": [
      "entrer le nombre d'annee: 2\n",
      "une personne peut vivre  63072000\n"
     ]
    }
   ],
   "source": [
    "anne = input(\"entrer le nombre d'annee: \")\n",
    "anne = int(anne)\n",
    "if anne == 1:\n",
    "    secondes = 31536000\n",
    "    print(\"une personne peut vivre \", secondes)\n",
    "if anne == 100 :\n",
    "    seconde = secondes*100\n",
    "    print(\"une personne peut vivre \", seconde)\n",
    "else :\n",
    "    secondes = anne * secondes\n",
    "    print(\"une personne peut vivre \", secondes)\n",
    "    "
   ]
  },
  {
   "cell_type": "markdown",
   "id": "8c97d8bc",
   "metadata": {
    "id": "9b253387"
   },
   "source": [
    "**Exercice 10:** \n",
    "> **Écrivez un script Python qui affiche le tableau suivant**\n",
    "\n",
    "    1 1 1 1 1\n",
    "    \n",
    "    2 1 2 4 8\n",
    "    \n",
    "    3 1 3 9 27\n",
    "    \n",
    "    4 1 4 16 64\n",
    "    \n",
    "    5 1 5 25 125"
   ]
  },
  {
   "cell_type": "code",
   "execution_count": 36,
   "id": "5323787b",
   "metadata": {
    "id": "aa2dae84"
   },
   "outputs": [
    {
     "name": "stdout",
     "output_type": "stream",
     "text": [
      "[1, 1, 1, 1, 1]\n",
      "[2, 1, 2, 4, 8]\n",
      "[3, 1, 3, 9, 27]\n",
      "[4, 1, 4, 16, 64]\n",
      "[5, 1, 5, 25, 125]\n"
     ]
    }
   ],
   "source": [
    "liste = [1, 1, 1, 1, 1]\n",
    "liste1 = [2, 1, 2, 4, 8]\n",
    "liste2 = [3 ,1 ,3 ,9 ,27]\n",
    "liste3 = [4, 1, 4, 16, 64]\n",
    "LISTE = [5 ,1 ,5 ,25 ,125]\n",
    "print(liste)\n",
    "print(liste1)\n",
    "print(liste2)\n",
    "print(liste3)\n",
    "print(LISTE)"
   ]
  },
  {
   "cell_type": "markdown",
   "id": "60901158",
   "metadata": {
    "id": "953e7d8c"
   },
   "source": [
    "**Exercise 11:** \n",
    ">**Attribuez aux variables `temps` et `distance` les valeurs $6.892$ et $19.7$. Calculer et afficher la valeur de la vitesse. Améliorer l'affichage en imposant un chiffre après la virgule.**"
   ]
  },
  {
   "cell_type": "code",
   "execution_count": 34,
   "id": "c084a050",
   "metadata": {
    "id": "6d787289"
   },
   "outputs": [
    {
     "name": "stdout",
     "output_type": "stream",
     "text": [
      "135.8\n"
     ]
    }
   ],
   "source": [
    "temps = 6.892\n",
    "temps = float(temps)\n",
    "distance = 19.7\n",
    "distance = float(distance)\n",
    "vitesse = temps * distance\n",
    "vitesse = float(vitesse)\n",
    "print(round(vitesse,1))"
   ]
  },
  {
   "cell_type": "markdown",
   "id": "e44293c7",
   "metadata": {
    "id": "2d0f1ff9"
   },
   "source": [
    "**Exercice 12:** \n",
    "> **Écrire un programme qui, à partir de la saisie d’un rayon et d’une hauteur, calcule levolume d’un cône droit.**"
   ]
  },
  {
   "cell_type": "code",
   "execution_count": 24,
   "id": "62eaa96b",
   "metadata": {
    "id": "969f5f68"
   },
   "outputs": [
    {
     "name": "stdout",
     "output_type": "stream",
     "text": [
      "entrer le rayon : 2\n",
      "entrer la hauteur: 5\n",
      "le volume est  3.3333333333333335\n"
     ]
    }
   ],
   "source": [
    "rayon = input(\"entrer le rayon : \")\n",
    "hauteur = input(\"entrer la hauteur: \")\n",
    "volume = float(rayon) * float(hauteur)/3\n",
    "print(\"le volume est \", volume)"
   ]
  },
  {
   "cell_type": "markdown",
   "id": "d479566d",
   "metadata": {
    "id": "e9b3ce2a"
   },
   "source": [
    "**Exercise 13:** \n",
    "> **L'utilisateur donne un entier positif et le programme annonce combien de fois de suite cet entier est divisible par 2.**"
   ]
  },
  {
   "cell_type": "code",
   "execution_count": 42,
   "id": "1d290f90",
   "metadata": {
    "id": "5c8fea9a"
   },
   "outputs": [
    {
     "name": "stdout",
     "output_type": "stream",
     "text": [
      "entrer un entier postif: 1\n",
      "l'entier entrer est divisible:  1 fois\n"
     ]
    }
   ],
   "source": [
    "entier = input(\"entrer un entier postif: \")\n",
    "entier = int(entier)\n",
    "n = 0\n",
    "if entier/2 :\n",
    "    n = n+1\n",
    "    print(\"l'entier entrer est divisible: \", n, \"fois\")"
   ]
  },
  {
   "cell_type": "markdown",
   "id": "02fe9efe",
   "metadata": {
    "id": "0485aed6"
   },
   "source": [
    "**Exercise 14:** \n",
    ">**L'utilisateur donne un nombre entier entre 2 et 12, le programme donne le nombre de façons de le faire en lançant deux dés.**"
   ]
  },
  {
   "cell_type": "code",
   "execution_count": null,
   "id": "5b126ffe",
   "metadata": {
    "id": "31f48a15"
   },
   "outputs": [],
   "source": []
  },
  {
   "cell_type": "markdown",
   "id": "e6e9570e",
   "metadata": {
    "id": "cead0c8f"
   },
   "source": [
    "**Exercice 15:** \n",
    "> **Utilisez la fonction d'entrée intégrée `input()` pour obtenir le `_prénom_`, le `_nom_`, le `_pays_d_origine` et l'`_age_` d'un utilisateur et stockez la valeur dans les noms des variables correspondantes.**"
   ]
  },
  {
   "cell_type": "code",
   "execution_count": null,
   "id": "036fb56c",
   "metadata": {
    "id": "0a2694a9"
   },
   "outputs": [],
   "source": [
    "prenom = input(\"saisissez le nom: \")\n",
    "prenom = str(prenom)\n",
    "nom = input(\"saisissez le prenom: \")\n",
    "nom = str(nom)\n",
    "pays_origine = input(\"saisissez le pays d'origine:  \")\n",
    "pays_origine = str(pays_origine)\n",
    "age =  input(\"saisissez l'age:  \")\n",
    "age = int(age)\n",
    "\n",
    "print(\"prenom =\", prenom)\n",
    "print(\"nom =\", nom)\n",
    "print(\"pays_origine =\", pays_origine)\n",
    "print(\"age =\", age)\n",
    "\n"
   ]
  },
  {
   "cell_type": "markdown",
   "id": "29d3c54a",
   "metadata": {
    "id": "33240a56"
   },
   "source": [
    "**Exercice 16:** \n",
    "\n",
    "**Déclarer $5$ comme `num_one` et $4$ comme `num_two`**\n",
    "\n",
    "   1. Additionner `num_one` et `num_two` et affecter la valeur à une variable `totale`.\n",
    "   2. Soustraire `num_two` de `num_one` et affecter la valeur à une variable `diff`.\n",
    "   3. Multipliez le `num_one` et le `num_two` et attribuez la valeur à une variable `produit`.\n",
    "   4. Divisez le `num_one` par le `num_two` et attribuez la valeur à une variable `division`.\n",
    "   5. Calculez `num_one` à la puissance de `num_two` et attribuez la valeur à une variable `exp`."
   ]
  },
  {
   "cell_type": "code",
   "execution_count": null,
   "id": "25771ea8",
   "metadata": {
    "id": "c2f3e814"
   },
   "outputs": [],
   "source": [
    "num_one = 5\n",
    "num_two = 4\n",
    "total = int(num_one) + int(num_two)\n",
    "print(num_one, \"+\", num_two, \"=\", total)\n",
    "diff = int(num_two) - int(num_one)\n",
    "print(num_one, \"-\", num_two, \"=\", diff)\n",
    "produit = int(num_one) * int(num_two)\n",
    "print(num_one, \"*\", num_two, \"=\", produit)\n",
    "division = int(num_one) / int(num_two)\n",
    "print(num_one, \"/\", num_two, \"=\", division)\n",
    "exp = int(num_one) ** int(num_two)\n",
    "print(num_one, \"**\", num_two, \"=\", exp)"
   ]
  },
  {
   "cell_type": "markdown",
   "id": "ae6f4bd1",
   "metadata": {
    "id": "80763237"
   },
   "source": [
    "<center> <b> <span style=\"color:orange;\"> 🎉 FÉLICITATIONS! 🎉 </span> </b></center>"
   ]
  }
 ],
 "metadata": {
  "colab": {
   "collapsed_sections": [],
   "name": "In2Py_TP_01.ipynb",
   "provenance": []
  },
  "kernelspec": {
   "display_name": "Python 3",
   "language": "python",
   "name": "python3"
  },
  "language_info": {
   "codemirror_mode": {
    "name": "ipython",
    "version": 3
   },
   "file_extension": ".py",
   "mimetype": "text/x-python",
   "name": "python",
   "nbconvert_exporter": "python",
   "pygments_lexer": "ipython3",
   "version": "3.8.10"
  }
 },
 "nbformat": 4,
 "nbformat_minor": 5
}
