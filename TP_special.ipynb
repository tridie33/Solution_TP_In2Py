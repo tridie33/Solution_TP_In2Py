{
 "cells": [
  {
   "cell_type": "code",
   "execution_count": 17,
   "id": "a03066dc",
   "metadata": {},
   "outputs": [
    {
     "name": "stdout",
     "output_type": "stream",
     "text": [
      "enter a valide number: 3\n",
      "7\n",
      "4\n"
     ]
    }
   ],
   "source": [
    "n = input(\"enter a valide number: \")\n",
    "n = int(n)\n",
    "som = 0\n",
    "produit = 1\n",
    "for i in range(0,n-1):\n",
    "    som += (i+3) \n",
    "print(som)    \n",
    "for i in range(1,n-1):\n",
    "    produit *= (i+3)\n",
    "print(produit)    \n",
    "    "
   ]
  },
  {
   "cell_type": "markdown",
   "id": "16a11904",
   "metadata": {},
   "source": [
    "Exercice 2"
   ]
  },
  {
   "cell_type": "code",
   "execution_count": 6,
   "id": "6714b9cf",
   "metadata": {},
   "outputs": [
    {
     "name": "stdout",
     "output_type": "stream",
     "text": [
      "enter number between 0 and 6 : 4\n",
      "Friday, working day!!\n"
     ]
    }
   ],
   "source": [
    "\n",
    "n = input(\"enter number between 0 and 6 : \")\n",
    "n = int(n)\n",
    "while int(n) > 6 or int(n) < 0:\n",
    "    n = input(\"enter number beetwen 0 and 6 : \")\n",
    "if n == 0:\n",
    "    print(\"Monday, working day!!\")\n",
    "if n == 1:\n",
    "    print(\"Tuesday, working day!!\")\n",
    "if n == 2:\n",
    "    print(\"wenesday, working day!!\")\n",
    "if n == 3:\n",
    "    print(\"Thursday, working day!!\")\n",
    "if n == 4:\n",
    "    print(\"Friday, working day!!\")\n",
    "if n == 7:\n",
    "    print(\"Saturday, weekend !!\")\n",
    "if n == 6:\n",
    "    print(\"Sunday, it's a weekend :)) !!\")\n",
    "                \n",
    "    \n",
    "        \n",
    "    "
   ]
  },
  {
   "cell_type": "markdown",
   "id": "4fd4d1e2",
   "metadata": {},
   "source": [
    "Exercice 3"
   ]
  },
  {
   "cell_type": "code",
   "execution_count": 8,
   "id": "afdfc20d",
   "metadata": {},
   "outputs": [
    {
     "name": "stdout",
     "output_type": "stream",
     "text": [
      "enter the month number : 1\n",
      "28 days !!\n"
     ]
    }
   ],
   "source": [
    "n = input(\"enter the month number : \")\n",
    "n = int(n)\n",
    "while int(n) > 11 or int(n) < 0:\n",
    "    n = input(\"enter the month number between 0 and 11: \")\n",
    "if n == 0 or n == 2 or n == 4 or n == 6 or n == 7 or n == 9 or n == 11:\n",
    "    print(\"31 days !!\")\n",
    "if n == 3 or n == 5 or n == 8 or n == 10:\n",
    "    print(\"30 days !!\")\n",
    "if n == 1:\n",
    "    print(\"28 days !!\")\n",
    "    \n",
    "    "
   ]
  },
  {
   "cell_type": "markdown",
   "id": "a99ae106",
   "metadata": {},
   "source": [
    "Exercice 4"
   ]
  },
  {
   "cell_type": "code",
   "execution_count": 9,
   "id": "c71bd20c",
   "metadata": {},
   "outputs": [
    {
     "name": "stdout",
     "output_type": "stream",
     "text": [
      "TETEDE\n",
      "TETEDE\n",
      "TETEDE\n"
     ]
    }
   ],
   "source": [
    "name = \"TETEDE\"\n",
    "for i in range(3):\n",
    "    print(name)\n",
    "    i += 1"
   ]
  },
  {
   "cell_type": "code",
   "execution_count": 10,
   "id": "e95407f0",
   "metadata": {},
   "outputs": [
    {
     "name": "stdout",
     "output_type": "stream",
     "text": [
      "TETEDE\n",
      "TETEDE\n",
      "TETEDE\n"
     ]
    }
   ],
   "source": [
    "name = \"TETEDE\"\n",
    "i = 0\n",
    "while i < 3:\n",
    "    print(name)\n",
    "    i += 1"
   ]
  },
  {
   "cell_type": "markdown",
   "id": "7cdef9aa",
   "metadata": {},
   "source": [
    "Exercice 5"
   ]
  },
  {
   "cell_type": "code",
   "execution_count": 20,
   "id": "ba34800d",
   "metadata": {},
   "outputs": [
    {
     "name": "stdout",
     "output_type": "stream",
     "text": [
      "enter a terms : 15\n",
      "Fibonacci sequence: \n",
      "0\n",
      "1\n",
      "1\n",
      "2\n",
      "3\n",
      "5\n",
      "8\n",
      "13\n",
      "21\n",
      "34\n",
      "55\n",
      "89\n",
      "144\n",
      "233\n",
      "377\n"
     ]
    }
   ],
   "source": [
    "terms = input(\"enter a terms : \")\n",
    "\n",
    "a_0, a_1 = 0, 1\n",
    "count = 0\n",
    "\n",
    "if int(terms) <= 0:\n",
    "    print(\"enter a positive number: \")\n",
    "if int(terms) == 1:\n",
    "    print(\"Fibonacci sequences \", terms, \":\")\n",
    "    print(a_0)\n",
    "else:\n",
    "    print(\"Fibonacci sequence: \")\n",
    "    while int(count) < int(terms):\n",
    "        print(a_0)\n",
    "        nombre = a_0 + a_1\n",
    "        a_0 = a_1\n",
    "        a_1 = nombre\n",
    "        count += 1\n",
    "    "
   ]
  },
  {
   "cell_type": "markdown",
   "id": "70c1bea0",
   "metadata": {},
   "source": [
    "Exercice 6"
   ]
  },
  {
   "cell_type": "code",
   "execution_count": 5,
   "id": "7b4b1b84",
   "metadata": {},
   "outputs": [
    {
     "name": "stdout",
     "output_type": "stream",
     "text": [
      "\n",
      " les 30 premiers termes définies à partir de la séquence définie est:\n",
      "0\n",
      "1\n",
      "0.5\n",
      "3.25\n",
      "3.125\n",
      "11.3125\n",
      "15.03125\n",
      "41.453125\n",
      "65.8203125\n",
      "157.26953125\n",
      "276.095703125\n",
      "609.8564453125\n",
      "1133.21533203125\n",
      "2396.177001953125\n",
      "4597.7344970703125\n",
      "9487.398254394531\n",
      "18536.902618408203\n",
      "37730.646072387695\n",
      "74476.03089141846\n",
      "150429.9536628723\n",
      "298643.0695056915\n",
      "600611.3957414627\n",
      "1196234.906387806\n",
      "2399951.640418291\n",
      "4788680.539372563\n",
      "9594195.190941155\n",
      "19163139.213588268\n",
      "38364155.1796176\n",
      "76671495.2305736\n",
      "153428213.15413958\n"
     ]
    }
   ],
   "source": [
    "x0 = 0\n",
    "x1 = 1\n",
    "print(\"\\n les 30 premiers termes définies à partir de la séquence définie est:\")\n",
    "print(x0)\n",
    "print(x1)\n",
    "for i in range(0, 28):\n",
    "    new = ((6*x0) + x1)/2\n",
    "    print(new)\n",
    "    x0 = x1\n",
    "    x1 = new\n"
   ]
  },
  {
   "cell_type": "markdown",
   "id": "284fb287",
   "metadata": {},
   "source": [
    "Exercice 7"
   ]
  },
  {
   "cell_type": "code",
   "execution_count": 25,
   "id": "3fb6dff4",
   "metadata": {},
   "outputs": [
    {
     "name": "stdout",
     "output_type": "stream",
     "text": [
      "write a year: 2000\n",
      "This year is a leap year\n"
     ]
    }
   ],
   "source": [
    "year = input(\"write a year: \")\n",
    "year = int(year)\n",
    "if (year % 400 == 0) and (year % 100 == 0):\n",
    "    print(\"This year is a leap year\")\n",
    "elif (year % 4 == 0) and (year % 100 != 0):\n",
    "    print(\"This year is a leap year\")\n",
    "else:\n",
    "    print(\"This year is not a leap year\")\n",
    "   "
   ]
  },
  {
   "cell_type": "code",
   "execution_count": 7,
   "id": "70186a6f",
   "metadata": {},
   "outputs": [
    {
     "name": "stdout",
     "output_type": "stream",
     "text": [
      "write a year: 2021\n",
      "false\n"
     ]
    }
   ],
   "source": [
    "year = input(\"write a year: \")\n",
    "year = int(year)\n",
    "if (year % 400 == 0) or (year % 4 == 0) and (year % 100 != 0):\n",
    "    print(\"True\")\n",
    "else:\n",
    "    print(\"false\")\n",
    "\n",
    "   "
   ]
  },
  {
   "cell_type": "markdown",
   "id": "184219bd",
   "metadata": {},
   "source": [
    "Exercice 8"
   ]
  },
  {
   "cell_type": "code",
   "execution_count": 31,
   "id": "de4ffb14",
   "metadata": {},
   "outputs": [
    {
     "name": "stdout",
     "output_type": "stream",
     "text": [
      "enter your n numbers: 7\n",
      "91\n"
     ]
    }
   ],
   "source": [
    "n = input(\"enter your n numbers: \")\n",
    "n = int(n)\n",
    "som = 0\n",
    "for i in range(0,n):\n",
    "    som += (i**2) \n",
    "print(som)    "
   ]
  },
  {
   "cell_type": "code",
   "execution_count": 34,
   "id": "7717c5e3",
   "metadata": {},
   "outputs": [
    {
     "name": "stdout",
     "output_type": "stream",
     "text": [
      "enter your n numbers: 7\n",
      "91\n"
     ]
    }
   ],
   "source": [
    "n = input(\"enter your n numbers: \")\n",
    "n = int(n)\n",
    "som = 0\n",
    "i=0\n",
    "while i < n:\n",
    "    som += (i**2) \n",
    "    i+=1\n",
    "print(som)    "
   ]
  },
  {
   "cell_type": "markdown",
   "id": "feb58bfd",
   "metadata": {},
   "source": [
    "Exercice 9"
   ]
  },
  {
   "cell_type": "code",
   "execution_count": 8,
   "id": "1b899a2e",
   "metadata": {},
   "outputs": [
    {
     "name": "stdout",
     "output_type": "stream",
     "text": [
      "Entrer un nombre n :4\n",
      "1\n",
      "2\n",
      "4\n"
     ]
    }
   ],
   "source": [
    "n = int(input(\"Entrer un nombre n :\"))\n",
    "l = list(range(1 , n+1))\n",
    "for i in l :\n",
    "    if n%i == 0 :\n",
    "        print(i)\n"
   ]
  },
  {
   "cell_type": "code",
   "execution_count": 9,
   "id": "18f3cce1",
   "metadata": {},
   "outputs": [
    {
     "name": "stdout",
     "output_type": "stream",
     "text": [
      "Entrer un nombre n :5\n",
      "6\n"
     ]
    }
   ],
   "source": [
    "n = int(input(\"Entrer un nombre n :\"))\n",
    "s = 0\n",
    "l = list(range(1 , n+1))\n",
    "for i in l :\n",
    "    if n%i == 0 :\n",
    "        s = s + i\n",
    "print(s) \n"
   ]
  },
  {
   "cell_type": "markdown",
   "id": "63ccb596",
   "metadata": {},
   "source": [
    "Exercice 10"
   ]
  },
  {
   "cell_type": "code",
   "execution_count": 13,
   "id": "89845595",
   "metadata": {},
   "outputs": [
    {
     "name": "stdout",
     "output_type": "stream",
     "text": [
      "enter your n numbers: 5\n",
      "enter your stop number: 34\n",
      "1 * 5 = 5\n",
      "2 * 5 = 10\n",
      "3 * 5 = 15\n",
      "4 * 5 = 20\n",
      "5 * 5 = 25\n",
      "6 * 5 = 30\n",
      "7 * 5 = 35\n",
      "8 * 5 = 40\n",
      "9 * 5 = 45\n",
      "10 * 5 = 50\n",
      "11 * 5 = 55\n",
      "12 * 5 = 60\n",
      "13 * 5 = 65\n",
      "14 * 5 = 70\n",
      "15 * 5 = 75\n",
      "16 * 5 = 80\n",
      "17 * 5 = 85\n",
      "18 * 5 = 90\n",
      "19 * 5 = 95\n",
      "20 * 5 = 100\n",
      "21 * 5 = 105\n",
      "22 * 5 = 110\n",
      "23 * 5 = 115\n",
      "24 * 5 = 120\n",
      "25 * 5 = 125\n",
      "26 * 5 = 130\n",
      "27 * 5 = 135\n",
      "28 * 5 = 140\n",
      "29 * 5 = 145\n",
      "30 * 5 = 150\n",
      "31 * 5 = 155\n",
      "32 * 5 = 160\n",
      "33 * 5 = 165\n",
      "34 * 5 = 170\n"
     ]
    }
   ],
   "source": [
    "n = input(\"enter your n numbers: \")   \n",
    "a = input(\"enter your stop number: \")\n",
    "multiple = 0\n",
    "for i in range(1, int(a)+1):\n",
    "    mutiple = i * int(n)\n",
    "    print(i, \"*\", n, \"=\", mutiple)"
   ]
  },
  {
   "cell_type": "markdown",
   "id": "65dbd8bd",
   "metadata": {},
   "source": [
    "Exercice 11"
   ]
  },
  {
   "cell_type": "code",
   "execution_count": 1,
   "id": "d069cffb",
   "metadata": {},
   "outputs": [
    {
     "name": "stdout",
     "output_type": "stream",
     "text": [
      "3\n",
      "6\n",
      "7\n",
      "9\n",
      "11\n",
      "12\n",
      "14\n",
      "15\n",
      "18\n",
      "21\n",
      "22\n",
      "24\n",
      "27\n",
      "28\n",
      "30\n",
      "33\n",
      "35\n",
      "36\n"
     ]
    }
   ],
   "source": [
    "for i in range(1, 39):\n",
    "    if(i%3 == 0) or (i%7 == 0) or (i%11 == 0):\n",
    "        print(i)"
   ]
  },
  {
   "cell_type": "markdown",
   "id": "76f5ee44",
   "metadata": {},
   "source": [
    "Exercice 12"
   ]
  },
  {
   "cell_type": "code",
   "execution_count": 19,
   "id": "36ec19e8",
   "metadata": {},
   "outputs": [
    {
     "name": "stdout",
     "output_type": "stream",
     "text": [
      "enter the values of x: 7.8\n",
      "math.floor(x) :  7\n",
      "it's not sactified\n"
     ]
    }
   ],
   "source": [
    "import math   \n",
    "x = input(\"enter the values of x: \")\n",
    "x = float(x)\n",
    "func = math.floor(x)\n",
    "  \n",
    "print (\"math.floor(x) : \", func)\n",
    "if func == 1 + (func-1):\n",
    "    print(\"its sactified :-)) \")\n",
    "else:\n",
    "    print(\"it's not sactified\")\n",
    "\n",
    "#print \"math.floor(300.16) : \", math.floor(300.16)\n",
    "#print \"math.floor(300.72) : \", math.floor(300.72)"
   ]
  },
  {
   "cell_type": "markdown",
   "id": "93392b1f",
   "metadata": {},
   "source": [
    "Exercice 13"
   ]
  },
  {
   "cell_type": "code",
   "execution_count": 23,
   "id": "0106a16e",
   "metadata": {},
   "outputs": [
    {
     "name": "stdout",
     "output_type": "stream",
     "text": [
      "x = 0\n",
      "y = 7\n",
      "lies at positive y axis\n"
     ]
    }
   ],
   "source": [
    "x = input(\"x = \")\n",
    "y = input(\"y = \")\n",
    "x = int(x)\n",
    "y = int(y)\n",
    "\n",
    "if (x > 0 and y > 0):\n",
    "    print (\"lies in First quadrant\")\n",
    "elif (x < 0 and y > 0):\n",
    "    print (\"lies in Second quadrant\")\n",
    "elif (x < 0 and y < 0):\n",
    "    print (\"lies in Third quadrant\")\n",
    "elif (x > 0 and y < 0):\n",
    "    print (\"lies in Fourth quadrant\")\n",
    "elif (x == 0 and y > 0):\n",
    "    print (\"lies at positive y axis\")\n",
    "elif (x == 0 and y < 0):\n",
    "    print (\"lies at negative y axis\")\n",
    "elif (y == 0 and x < 0):\n",
    "    print (\"lies at negative x axis\")\n",
    "elif (y == 0 and x > 0):\n",
    "    print (\"lies at positive x axis\")\n",
    "else:\n",
    "    print (\"lies at origin\")\n"
   ]
  },
  {
   "cell_type": "markdown",
   "id": "ac3e7251",
   "metadata": {},
   "source": [
    "Exercice 14"
   ]
  },
  {
   "cell_type": "code",
   "execution_count": null,
   "id": "928a21e1",
   "metadata": {},
   "outputs": [],
   "source": [
    "i = 0\n",
    "\n",
    "while i != 1 :\n",
    "    j = 0\n",
    "    while j != 1 :\n",
    "        x = int(input(\"Donner nombre entre 0 et 9 :\"))\n",
    "        if (x<0) or (x>9) :\n",
    "            j = 0\n",
    "        else :\n",
    "            j = 1\n",
    "    j = 0        \n",
    "    while j != 1 :\n",
    "        max = int(input(\"Donner nombre entre 0 et 255 :\"))\n",
    "        if max < 0 or max > 255 :\n",
    "            j = 0\n",
    "        else : \n",
    "            j = 1\n",
    "    tab = []\n",
    "    for l in range(1, max+1):\n",
    "        if l%x == 0 :\n",
    "            tab.append(l)\n",
    "    print(tab)\n",
    "    \n",
    "    i = int(input(\"Reprendre oui (0) ou non (1) :\"))\n"
   ]
  },
  {
   "cell_type": "code",
   "execution_count": null,
   "id": "7f92917c",
   "metadata": {},
   "outputs": [],
   "source": []
  }
 ],
 "metadata": {
  "kernelspec": {
   "display_name": "Python 3",
   "language": "python",
   "name": "python3"
  },
  "language_info": {
   "codemirror_mode": {
    "name": "ipython",
    "version": 3
   },
   "file_extension": ".py",
   "mimetype": "text/x-python",
   "name": "python",
   "nbconvert_exporter": "python",
   "pygments_lexer": "ipython3",
   "version": "3.8.10"
  }
 },
 "nbformat": 4,
 "nbformat_minor": 5
}
