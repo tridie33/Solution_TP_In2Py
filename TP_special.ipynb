{
 "cells": [
  {
   "cell_type": "code",
   "execution_count": 17,
   "id": "26bf3dfc",
   "metadata": {},
   "outputs": [
    {
     "name": "stdout",
     "output_type": "stream",
     "text": [
      "enter a valide number: 3\n",
      "7\n",
      "4\n"
     ]
    }
   ],
   "source": [
    "n = input(\"enter a valide number: \")\n",
    "n = int(n)\n",
    "som = 0\n",
    "produit = 1\n",
    "for i in range(0,n-1):\n",
    "    som += (i+3) \n",
    "print(som)    \n",
    "for i in range(1,n-1):\n",
    "    produit *= (i+3)\n",
    "print(produit)    \n",
    "    "
   ]
  },
  {
   "cell_type": "code",
   "execution_count": 6,
   "id": "a7843c55",
   "metadata": {},
   "outputs": [
    {
     "name": "stdout",
     "output_type": "stream",
     "text": [
      "enter number between 0 and 6 : 4\n",
      "Friday, working day!!\n"
     ]
    }
   ],
   "source": [
    "\n",
    "n = input(\"enter number between 0 and 6 : \")\n",
    "n = int(n)\n",
    "while int(n) > 6 or int(n) < 0:\n",
    "    n = input(\"enter number beetwen 0 and 6 : \")\n",
    "if n == 0:\n",
    "    print(\"Monday, working day!!\")\n",
    "if n == 1:\n",
    "    print(\"Tuesday, working day!!\")\n",
    "if n == 2:\n",
    "    print(\"wenesday, working day!!\")\n",
    "if n == 3:\n",
    "    print(\"Thursday, working day!!\")\n",
    "if n == 4:\n",
    "    print(\"Friday, working day!!\")\n",
    "if n == 7:\n",
    "    print(\"Saturday, weekend !!\")\n",
    "if n == 6:\n",
    "    print(\"Sunday, it's a weekend :)) !!\")\n",
    "                \n",
    "    \n",
    "        \n",
    "    "
   ]
  },
  {
   "cell_type": "code",
   "execution_count": 8,
   "id": "bac53c3a",
   "metadata": {},
   "outputs": [
    {
     "name": "stdout",
     "output_type": "stream",
     "text": [
      "enter the month number : 1\n",
      "28 days !!\n"
     ]
    }
   ],
   "source": [
    "n = input(\"enter the month number : \")\n",
    "n = int(n)\n",
    "while int(n) > 11 or int(n) < 0:\n",
    "    n = input(\"enter the month number between 0 and 11: \")\n",
    "if n == 0 or n == 2 or n == 4 or n == 6 or n == 7 or n == 9 or n == 11:\n",
    "    print(\"31 days !!\")\n",
    "if n == 3 or n == 5 or n == 8 or n == 10:\n",
    "    print(\"30 days !!\")\n",
    "if n == 1:\n",
    "    print(\"28 days !!\")\n",
    "    \n",
    "    "
   ]
  },
  {
   "cell_type": "code",
   "execution_count": 9,
   "id": "a794fbc4",
   "metadata": {},
   "outputs": [
    {
     "name": "stdout",
     "output_type": "stream",
     "text": [
      "TETEDE\n",
      "TETEDE\n",
      "TETEDE\n"
     ]
    }
   ],
   "source": [
    "name = \"TETEDE\"\n",
    "for i in range(3):\n",
    "    print(name)\n",
    "    i += 1"
   ]
  },
  {
   "cell_type": "code",
   "execution_count": 10,
   "id": "48208f82",
   "metadata": {},
   "outputs": [
    {
     "name": "stdout",
     "output_type": "stream",
     "text": [
      "TETEDE\n",
      "TETEDE\n",
      "TETEDE\n"
     ]
    }
   ],
   "source": [
    "name = \"TETEDE\"\n",
    "i = 0\n",
    "while i < 3:\n",
    "    print(name)\n",
    "    i += 1"
   ]
  },
  {
   "cell_type": "code",
   "execution_count": 20,
   "id": "f2c30e7b",
   "metadata": {},
   "outputs": [
    {
     "name": "stdout",
     "output_type": "stream",
     "text": [
      "enter a terms : 15\n",
      "Fibonacci sequence: \n",
      "0\n",
      "1\n",
      "1\n",
      "2\n",
      "3\n",
      "5\n",
      "8\n",
      "13\n",
      "21\n",
      "34\n",
      "55\n",
      "89\n",
      "144\n",
      "233\n",
      "377\n"
     ]
    }
   ],
   "source": [
    "terms = input(\"enter a terms : \")\n",
    "\n",
    "a_0, a_1 = 0, 1\n",
    "count = 0\n",
    "\n",
    "if int(terms) <= 0:\n",
    "    print(\"enter a positive number: \")\n",
    "if int(terms) == 1:\n",
    "    print(\"Fibonacci sequences \", terms, \":\")\n",
    "    print(a_0)\n",
    "else:\n",
    "    print(\"Fibonacci sequence: \")\n",
    "    while int(count) < int(terms):\n",
    "        print(a_0)\n",
    "        nombre = a_0 + a_1\n",
    "        a_0 = a_1\n",
    "        a_1 = nombre\n",
    "        count += 1\n",
    "    "
   ]
  },
  {
   "cell_type": "code",
   "execution_count": 23,
   "id": "e47918e3",
   "metadata": {},
   "outputs": [
    {
     "name": "stdout",
     "output_type": "stream",
     "text": [
      "Fibonacci sequence: \n",
      "0\n",
      "1\n",
      "3\n",
      "6\n",
      "9\n",
      "9\n",
      "0\n",
      "-27\n",
      "-81\n",
      "-162\n",
      "-243\n",
      "-243\n",
      "0\n",
      "729\n",
      "2187\n",
      "4374\n",
      "6561\n",
      "6561\n",
      "0\n",
      "-19683\n",
      "-59049\n",
      "-118098\n",
      "-177147\n",
      "-177147\n",
      "0\n",
      "531441\n",
      "1594323\n",
      "3188646\n",
      "4782969\n",
      "4782969\n"
     ]
    }
   ],
   "source": [
    "terms = 30\n",
    "\n",
    "x_0, x_1 = 0, 1\n",
    "count = 0\n",
    "\n",
    "if int(terms) <= 0:\n",
    "    print(\"enter a positive number: \")\n",
    "if int(terms) == 1:\n",
    "    print(\"sequences define \", terms, \":\")\n",
    "    print(x_0)\n",
    "else:\n",
    "    print(\"sequence define: \")\n",
    "    while int(count) < int(terms):\n",
    "        print(x_0)\n",
    "        nombre = x_0 + x_1\n",
    "        sequence = nombre + x_0 + x_1\n",
    "        every = 2*sequence - nombre - 6*x_0\n",
    "        x_0 = x_1\n",
    "        x_1 = every\n",
    "        count += 1\n",
    "    "
   ]
  },
  {
   "cell_type": "code",
   "execution_count": 25,
   "id": "c9819844",
   "metadata": {},
   "outputs": [
    {
     "name": "stdout",
     "output_type": "stream",
     "text": [
      "write a year: 2000\n",
      "This year is a leap year\n"
     ]
    }
   ],
   "source": [
    "year = input(\"write a year: \")\n",
    "year = int(year)\n",
    "if (year % 400 == 0) and (year % 100 == 0):\n",
    "    print(\"This year is a leap year\")\n",
    "elif (year % 4 == 0) and (year % 100 != 0):\n",
    "    print(\"This year is a leap year\")\n",
    "else:\n",
    "    print(\"This year is not a leap year\")\n",
    "   "
   ]
  },
  {
   "cell_type": "code",
   "execution_count": 29,
   "id": "f19b9fc9",
   "metadata": {},
   "outputs": [
    {
     "name": "stdout",
     "output_type": "stream",
     "text": [
      "write a year: 3434\n",
      "This year is a leap year\n",
      "This year is not a leap year\n"
     ]
    }
   ],
   "source": [
    "year = input(\"write a year: \")\n",
    "year = int(year)\n",
    "if (year % 400 == 0) or (year % 4 == 0) and (year % 100 != 0):\n",
    "    print(\"This year is a leap year\")\n",
    "else:\n",
    "    print(\"This year is not a leap year\")\n",
    "   "
   ]
  },
  {
   "cell_type": "code",
   "execution_count": 31,
   "id": "bba0e296",
   "metadata": {},
   "outputs": [
    {
     "name": "stdout",
     "output_type": "stream",
     "text": [
      "enter your n numbers: 7\n",
      "91\n"
     ]
    }
   ],
   "source": [
    "n = input(\"enter your n numbers: \")\n",
    "n = int(n)\n",
    "som = 0\n",
    "for i in range(0,n):\n",
    "    som += (i**2) \n",
    "print(som)    "
   ]
  },
  {
   "cell_type": "code",
   "execution_count": 34,
   "id": "e8e19f7f",
   "metadata": {},
   "outputs": [
    {
     "name": "stdout",
     "output_type": "stream",
     "text": [
      "enter your n numbers: 7\n",
      "91\n"
     ]
    }
   ],
   "source": [
    "n = input(\"enter your n numbers: \")\n",
    "n = int(n)\n",
    "som = 0\n",
    "i=0\n",
    "while i < n:\n",
    "    som += (i**2) \n",
    "    i+=1\n",
    "print(som)    "
   ]
  },
  {
   "cell_type": "code",
   "execution_count": 43,
   "id": "bfc94640",
   "metadata": {},
   "outputs": [
    {
     "ename": "SyntaxError",
     "evalue": "invalid syntax (<ipython-input-43-361286fdea38>, line 7)",
     "output_type": "error",
     "traceback": [
      "\u001b[0;36m  File \u001b[0;32m\"<ipython-input-43-361286fdea38>\"\u001b[0;36m, line \u001b[0;32m7\u001b[0m\n\u001b[0;31m    print(\"%d² + \"%i, end=)\u001b[0m\n\u001b[0m                          ^\u001b[0m\n\u001b[0;31mSyntaxError\u001b[0m\u001b[0;31m:\u001b[0m invalid syntax\n"
     ]
    }
   ],
   "source": [
    "n = input(\"enter your n numbers: \")\n",
    "n = int(n)\n",
    "total = 0\n",
    "total = (n * ( n + 1) * (2 * n + 1))/6\n",
    "for i in range(1, n+1):\n",
    "    if (i != n):\n",
    "        print(\"%d² + \"%i, end=)\n",
    "    else:\n",
    "        print(i, total)"
   ]
  },
  {
   "cell_type": "code",
   "execution_count": null,
   "id": "af8586b6",
   "metadata": {},
   "outputs": [],
   "source": []
  },
  {
   "cell_type": "code",
   "execution_count": null,
   "id": "a1fbfbf0",
   "metadata": {},
   "outputs": [],
   "source": []
  },
  {
   "cell_type": "code",
   "execution_count": null,
   "id": "4c9ee9c6",
   "metadata": {},
   "outputs": [],
   "source": []
  }
 ],
 "metadata": {
  "kernelspec": {
   "display_name": "Python 3",
   "language": "python",
   "name": "python3"
  },
  "language_info": {
   "codemirror_mode": {
    "name": "ipython",
    "version": 3
   },
   "file_extension": ".py",
   "mimetype": "text/x-python",
   "name": "python",
   "nbconvert_exporter": "python",
   "pygments_lexer": "ipython3",
   "version": "3.8.10"
  }
 },
 "nbformat": 4,
 "nbformat_minor": 5
}
