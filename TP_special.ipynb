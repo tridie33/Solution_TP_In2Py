{
 "cells": [
  {
   "cell_type": "code",
   "execution_count": 17,
   "id": "3988f852",
   "metadata": {},
   "outputs": [
    {
     "name": "stdout",
     "output_type": "stream",
     "text": [
      "enter a valide number: 3\n",
      "7\n",
      "4\n"
     ]
    }
   ],
   "source": [
    "n = input(\"enter a valide number: \")\n",
    "n = int(n)\n",
    "som = 0\n",
    "produit = 1\n",
    "for i in range(0,n-1):\n",
    "    som += (i+3) \n",
    "print(som)    \n",
    "for i in range(1,n-1):\n",
    "    produit *= (i+3)\n",
    "print(produit)    \n",
    "    "
   ]
  },
  {
   "cell_type": "markdown",
   "id": "63dff3c6",
   "metadata": {},
   "source": [
    "Exercice 2"
   ]
  },
  {
   "cell_type": "code",
   "execution_count": 6,
   "id": "1c381be7",
   "metadata": {},
   "outputs": [
    {
     "name": "stdout",
     "output_type": "stream",
     "text": [
      "enter number between 0 and 6 : 4\n",
      "Friday, working day!!\n"
     ]
    }
   ],
   "source": [
    "\n",
    "n = input(\"enter number between 0 and 6 : \")\n",
    "n = int(n)\n",
    "while int(n) > 6 or int(n) < 0:\n",
    "    n = input(\"enter number beetwen 0 and 6 : \")\n",
    "if n == 0:\n",
    "    print(\"Monday, working day!!\")\n",
    "if n == 1:\n",
    "    print(\"Tuesday, working day!!\")\n",
    "if n == 2:\n",
    "    print(\"wenesday, working day!!\")\n",
    "if n == 3:\n",
    "    print(\"Thursday, working day!!\")\n",
    "if n == 4:\n",
    "    print(\"Friday, working day!!\")\n",
    "if n == 7:\n",
    "    print(\"Saturday, weekend !!\")\n",
    "if n == 6:\n",
    "    print(\"Sunday, it's a weekend :)) !!\")\n",
    "                \n",
    "    \n",
    "        \n",
    "    "
   ]
  },
  {
   "cell_type": "markdown",
   "id": "f1110449",
   "metadata": {},
   "source": [
    "Exercice 3"
   ]
  },
  {
   "cell_type": "code",
   "execution_count": 8,
   "id": "6eca31b1",
   "metadata": {},
   "outputs": [
    {
     "name": "stdout",
     "output_type": "stream",
     "text": [
      "enter the month number : 1\n",
      "28 days !!\n"
     ]
    }
   ],
   "source": [
    "n = input(\"enter the month number : \")\n",
    "n = int(n)\n",
    "while int(n) > 11 or int(n) < 0:\n",
    "    n = input(\"enter the month number between 0 and 11: \")\n",
    "if n == 0 or n == 2 or n == 4 or n == 6 or n == 7 or n == 9 or n == 11:\n",
    "    print(\"31 days !!\")\n",
    "if n == 3 or n == 5 or n == 8 or n == 10:\n",
    "    print(\"30 days !!\")\n",
    "if n == 1:\n",
    "    print(\"28 days !!\")\n",
    "    \n",
    "    "
   ]
  },
  {
   "cell_type": "markdown",
   "id": "d75164ba",
   "metadata": {},
   "source": [
    "Exercice 4"
   ]
  },
  {
   "cell_type": "code",
   "execution_count": 9,
   "id": "fbc9c801",
   "metadata": {},
   "outputs": [
    {
     "name": "stdout",
     "output_type": "stream",
     "text": [
      "TETEDE\n",
      "TETEDE\n",
      "TETEDE\n"
     ]
    }
   ],
   "source": [
    "name = \"TETEDE\"\n",
    "for i in range(3):\n",
    "    print(name)\n",
    "    i += 1"
   ]
  },
  {
   "cell_type": "code",
   "execution_count": 10,
   "id": "1d367612",
   "metadata": {},
   "outputs": [
    {
     "name": "stdout",
     "output_type": "stream",
     "text": [
      "TETEDE\n",
      "TETEDE\n",
      "TETEDE\n"
     ]
    }
   ],
   "source": [
    "name = \"TETEDE\"\n",
    "i = 0\n",
    "while i < 3:\n",
    "    print(name)\n",
    "    i += 1"
   ]
  },
  {
   "cell_type": "markdown",
   "id": "e19871ec",
   "metadata": {},
   "source": [
    "Exercice 5"
   ]
  },
  {
   "cell_type": "code",
   "execution_count": 20,
   "id": "b44c1962",
   "metadata": {},
   "outputs": [
    {
     "name": "stdout",
     "output_type": "stream",
     "text": [
      "enter a terms : 15\n",
      "Fibonacci sequence: \n",
      "0\n",
      "1\n",
      "1\n",
      "2\n",
      "3\n",
      "5\n",
      "8\n",
      "13\n",
      "21\n",
      "34\n",
      "55\n",
      "89\n",
      "144\n",
      "233\n",
      "377\n"
     ]
    }
   ],
   "source": [
    "terms = input(\"enter a terms : \")\n",
    "\n",
    "a_0, a_1 = 0, 1\n",
    "count = 0\n",
    "\n",
    "if int(terms) <= 0:\n",
    "    print(\"enter a positive number: \")\n",
    "if int(terms) == 1:\n",
    "    print(\"Fibonacci sequences \", terms, \":\")\n",
    "    print(a_0)\n",
    "else:\n",
    "    print(\"Fibonacci sequence: \")\n",
    "    while int(count) < int(terms):\n",
    "        print(a_0)\n",
    "        nombre = a_0 + a_1\n",
    "        a_0 = a_1\n",
    "        a_1 = nombre\n",
    "        count += 1\n",
    "    "
   ]
  },
  {
   "cell_type": "markdown",
   "id": "2b3a077e",
   "metadata": {},
   "source": [
    "Exercice 6"
   ]
  },
  {
   "cell_type": "code",
   "execution_count": 23,
   "id": "ccb46cad",
   "metadata": {},
   "outputs": [
    {
     "name": "stdout",
     "output_type": "stream",
     "text": [
      "Fibonacci sequence: \n",
      "0\n",
      "1\n",
      "3\n",
      "6\n",
      "9\n",
      "9\n",
      "0\n",
      "-27\n",
      "-81\n",
      "-162\n",
      "-243\n",
      "-243\n",
      "0\n",
      "729\n",
      "2187\n",
      "4374\n",
      "6561\n",
      "6561\n",
      "0\n",
      "-19683\n",
      "-59049\n",
      "-118098\n",
      "-177147\n",
      "-177147\n",
      "0\n",
      "531441\n",
      "1594323\n",
      "3188646\n",
      "4782969\n",
      "4782969\n"
     ]
    }
   ],
   "source": [
    "terms = 30\n",
    "\n",
    "x_0, x_1 = 0, 1\n",
    "count = 0\n",
    "\n",
    "if int(terms) <= 0:\n",
    "    print(\"enter a positive number: \")\n",
    "if int(terms) == 1:\n",
    "    print(\"sequences define \", terms, \":\")\n",
    "    print(x_0)\n",
    "else:\n",
    "    print(\"sequence define: \")\n",
    "    while int(count) < int(terms):\n",
    "        print(x_0)\n",
    "        nombre = x_0 + x_1\n",
    "        sequence = nombre + x_0 + x_1\n",
    "        every = 2*sequence - nombre - 6*x_0\n",
    "        x_0 = x_1\n",
    "        x_1 = every\n",
    "        count += 1\n",
    "    "
   ]
  },
  {
   "cell_type": "markdown",
   "id": "91dce937",
   "metadata": {},
   "source": [
    "Exercice 7"
   ]
  },
  {
   "cell_type": "code",
   "execution_count": 25,
   "id": "ec7ecaeb",
   "metadata": {},
   "outputs": [
    {
     "name": "stdout",
     "output_type": "stream",
     "text": [
      "write a year: 2000\n",
      "This year is a leap year\n"
     ]
    }
   ],
   "source": [
    "year = input(\"write a year: \")\n",
    "year = int(year)\n",
    "if (year % 400 == 0) and (year % 100 == 0):\n",
    "    print(\"This year is a leap year\")\n",
    "elif (year % 4 == 0) and (year % 100 != 0):\n",
    "    print(\"This year is a leap year\")\n",
    "else:\n",
    "    print(\"This year is not a leap year\")\n",
    "   "
   ]
  },
  {
   "cell_type": "code",
   "execution_count": 29,
   "id": "67ee0d2c",
   "metadata": {},
   "outputs": [
    {
     "name": "stdout",
     "output_type": "stream",
     "text": [
      "write a year: 3434\n",
      "This year is a leap year\n",
      "This year is not a leap year\n"
     ]
    }
   ],
   "source": [
    "year = input(\"write a year: \")\n",
    "year = int(year)\n",
    "if (year % 400 == 0) or (year % 4 == 0) and (year % 100 != 0):\n",
    "    print(\"This year is a leap year\")\n",
    "else:\n",
    "    print(\"This year is not a leap year\")\n",
    "   "
   ]
  },
  {
   "cell_type": "markdown",
   "id": "5179cbda",
   "metadata": {},
   "source": [
    "Exercice 8"
   ]
  },
  {
   "cell_type": "code",
   "execution_count": 31,
   "id": "81066bbb",
   "metadata": {},
   "outputs": [
    {
     "name": "stdout",
     "output_type": "stream",
     "text": [
      "enter your n numbers: 7\n",
      "91\n"
     ]
    }
   ],
   "source": [
    "n = input(\"enter your n numbers: \")\n",
    "n = int(n)\n",
    "som = 0\n",
    "for i in range(0,n):\n",
    "    som += (i**2) \n",
    "print(som)    "
   ]
  },
  {
   "cell_type": "code",
   "execution_count": 34,
   "id": "ffbe3c8d",
   "metadata": {},
   "outputs": [
    {
     "name": "stdout",
     "output_type": "stream",
     "text": [
      "enter your n numbers: 7\n",
      "91\n"
     ]
    }
   ],
   "source": [
    "n = input(\"enter your n numbers: \")\n",
    "n = int(n)\n",
    "som = 0\n",
    "i=0\n",
    "while i < n:\n",
    "    som += (i**2) \n",
    "    i+=1\n",
    "print(som)    "
   ]
  },
  {
   "cell_type": "code",
   "execution_count": 15,
   "id": "1b5eec93",
   "metadata": {},
   "outputs": [
    {
     "name": "stdout",
     "output_type": "stream",
     "text": [
      "enter your n numbers: 7\n",
      "1² + \n",
      "2² + \n",
      "3² + \n",
      "4² + \n",
      "5² + \n",
      "6² + \n",
      "7 = 140\n"
     ]
    }
   ],
   "source": [
    "n = input(\"enter your n numbers: \")\n",
    "n = int(n)\n",
    "total = 0\n",
    "for i in range(1, n+1):\n",
    "    total += i**2\n",
    "    if (i != n):\n",
    "        print(\"%d² + \"%i)\n",
    "    else:\n",
    "        print(i,\"=\", total)"
   ]
  },
  {
   "cell_type": "markdown",
   "id": "c5f5108b",
   "metadata": {},
   "source": [
    "Exercice 9"
   ]
  },
  {
   "cell_type": "code",
   "execution_count": null,
   "id": "1b787e01",
   "metadata": {},
   "outputs": [],
   "source": []
  },
  {
   "cell_type": "code",
   "execution_count": null,
   "id": "22e4014b",
   "metadata": {},
   "outputs": [],
   "source": []
  },
  {
   "cell_type": "markdown",
   "id": "bce2415a",
   "metadata": {},
   "source": [
    "Exercice 10"
   ]
  },
  {
   "cell_type": "code",
   "execution_count": 4,
   "id": "5ac5b1aa",
   "metadata": {},
   "outputs": [
    {
     "name": "stdout",
     "output_type": "stream",
     "text": [
      "enter your n numbers: 7\n",
      "1 * 7 = 7\n",
      "2 * 7 = 14\n",
      "3 * 7 = 21\n",
      "4 * 7 = 28\n",
      "5 * 7 = 35\n",
      "6 * 7 = 42\n",
      "7 * 7 = 49\n"
     ]
    }
   ],
   "source": [
    "n = input(\"enter your n numbers: \")    \n",
    "multiple = 0\n",
    "for i in range(1, 8):\n",
    "    mutiple = i * int(n)\n",
    "    print(i, \"*\", n, \"=\", mutiple)"
   ]
  },
  {
   "cell_type": "markdown",
   "id": "59e42e45",
   "metadata": {},
   "source": [
    "Exercice 11"
   ]
  },
  {
   "cell_type": "code",
   "execution_count": 1,
   "id": "8ded3b22",
   "metadata": {},
   "outputs": [
    {
     "name": "stdout",
     "output_type": "stream",
     "text": [
      "3\n",
      "6\n",
      "7\n",
      "9\n",
      "11\n",
      "12\n",
      "14\n",
      "15\n",
      "18\n",
      "21\n",
      "22\n",
      "24\n",
      "27\n",
      "28\n",
      "30\n",
      "33\n",
      "35\n",
      "36\n"
     ]
    }
   ],
   "source": [
    "for i in range(1, 39):\n",
    "    if(i%3 == 0) or (i%7 == 0) or (i%11 == 0):\n",
    "        print(i)"
   ]
  },
  {
   "cell_type": "markdown",
   "id": "df885252",
   "metadata": {},
   "source": [
    "Exercice 12"
   ]
  },
  {
   "cell_type": "code",
   "execution_count": 19,
   "id": "5521a165",
   "metadata": {},
   "outputs": [
    {
     "name": "stdout",
     "output_type": "stream",
     "text": [
      "enter the values of x: 7.8\n",
      "math.floor(x) :  7\n",
      "it's not sactified\n"
     ]
    }
   ],
   "source": [
    "import math   \n",
    "x = input(\"enter the values of x: \")\n",
    "x = float(x)\n",
    "func = math.floor(x)\n",
    "  \n",
    "print (\"math.floor(x) : \", func)\n",
    "if func == 1 + (func-1):\n",
    "    print(\"its sactified :-)) \")\n",
    "else:\n",
    "    print(\"it's not sactified\")\n",
    "\n",
    "#print \"math.floor(300.16) : \", math.floor(300.16)\n",
    "#print \"math.floor(300.72) : \", math.floor(300.72)"
   ]
  },
  {
   "cell_type": "markdown",
   "id": "72c2574b",
   "metadata": {},
   "source": [
    "Exercice 13"
   ]
  },
  {
   "cell_type": "code",
   "execution_count": 23,
   "id": "bc01452d",
   "metadata": {},
   "outputs": [
    {
     "name": "stdout",
     "output_type": "stream",
     "text": [
      "x = 0\n",
      "y = 7\n",
      "lies at positive y axis\n"
     ]
    }
   ],
   "source": [
    "x = input(\"x = \")\n",
    "y = input(\"y = \")\n",
    "x = int(x)\n",
    "y = int(y)\n",
    "\n",
    "if (x > 0 and y > 0):\n",
    "    print (\"lies in First quadrant\")\n",
    "elif (x < 0 and y > 0):\n",
    "    print (\"lies in Second quadrant\")\n",
    "elif (x < 0 and y < 0):\n",
    "    print (\"lies in Third quadrant\")\n",
    "elif (x > 0 and y < 0):\n",
    "    print (\"lies in Fourth quadrant\")\n",
    "elif (x == 0 and y > 0):\n",
    "    print (\"lies at positive y axis\")\n",
    "elif (x == 0 and y < 0):\n",
    "    print (\"lies at negative y axis\")\n",
    "elif (y == 0 and x < 0):\n",
    "    print (\"lies at negative x axis\")\n",
    "elif (y == 0 and x > 0):\n",
    "    print (\"lies at positive x axis\")\n",
    "else:\n",
    "    print (\"lies at origin\")\n"
   ]
  },
  {
   "cell_type": "markdown",
   "id": "d43fdf10",
   "metadata": {},
   "source": [
    "Exercice 14"
   ]
  },
  {
   "cell_type": "code",
   "execution_count": 24,
   "id": "747712ea",
   "metadata": {},
   "outputs": [
    {
     "name": "stdout",
     "output_type": "stream",
     "text": [
      "entrer un nombre entre 0 et 98\n"
     ]
    },
    {
     "ename": "TypeError",
     "evalue": "random() takes no arguments (2 given)",
     "output_type": "error",
     "traceback": [
      "\u001b[0;31m---------------------------------------------------------------------------\u001b[0m",
      "\u001b[0;31mTypeError\u001b[0m                                 Traceback (most recent call last)",
      "\u001b[0;32m<ipython-input-24-1e7004dc51ae>\u001b[0m in \u001b[0;36m<module>\u001b[0;34m\u001b[0m\n\u001b[1;32m      2\u001b[0m \u001b[0ma\u001b[0m \u001b[0;34m=\u001b[0m \u001b[0minput\u001b[0m\u001b[0;34m(\u001b[0m\u001b[0;34m\"entrer un nombre entre 0 et 9\"\u001b[0m\u001b[0;34m)\u001b[0m\u001b[0;34m\u001b[0m\u001b[0;34m\u001b[0m\u001b[0m\n\u001b[1;32m      3\u001b[0m \u001b[0ma\u001b[0m \u001b[0;34m=\u001b[0m \u001b[0mint\u001b[0m\u001b[0;34m(\u001b[0m\u001b[0ma\u001b[0m\u001b[0;34m)\u001b[0m\u001b[0;34m\u001b[0m\u001b[0;34m\u001b[0m\u001b[0m\n\u001b[0;32m----> 4\u001b[0;31m \u001b[0mx\u001b[0m \u001b[0;34m=\u001b[0m \u001b[0mrandom\u001b[0m\u001b[0;34m.\u001b[0m\u001b[0mrandom\u001b[0m\u001b[0;34m(\u001b[0m\u001b[0;36m0\u001b[0m\u001b[0;34m,\u001b[0m \u001b[0;36m9\u001b[0m\u001b[0;34m)\u001b[0m\u001b[0;34m\u001b[0m\u001b[0;34m\u001b[0m\u001b[0m\n\u001b[0m\u001b[1;32m      5\u001b[0m \u001b[0;32mif\u001b[0m \u001b[0ma\u001b[0m \u001b[0;34m==\u001b[0m \u001b[0mx\u001b[0m\u001b[0;34m:\u001b[0m\u001b[0;34m\u001b[0m\u001b[0;34m\u001b[0m\u001b[0m\n\u001b[1;32m      6\u001b[0m     \u001b[0mprint\u001b[0m\u001b[0;34m(\u001b[0m\u001b[0;34m\"entrer un nombre entre 0 et 255\"\u001b[0m\u001b[0;34m)\u001b[0m\u001b[0;34m\u001b[0m\u001b[0;34m\u001b[0m\u001b[0m\n",
      "\u001b[0;31mTypeError\u001b[0m: random() takes no arguments (2 given)"
     ]
    }
   ],
   "source": [
    "import random\n",
    "a = input(\"entrer un nombre entre 0 et 9\")\n",
    "a = int(a)\n",
    "x = random.random(0, 9)\n",
    "if a == x:\n",
    "    print(\"entrer un nombre entre 0 et 255\")\n",
    "    b = max(0, 255)\n",
    "    \n"
   ]
  }
 ],
 "metadata": {
  "kernelspec": {
   "display_name": "Python 3",
   "language": "python",
   "name": "python3"
  },
  "language_info": {
   "codemirror_mode": {
    "name": "ipython",
    "version": 3
   },
   "file_extension": ".py",
   "mimetype": "text/x-python",
   "name": "python",
   "nbconvert_exporter": "python",
   "pygments_lexer": "ipython3",
   "version": "3.8.10"
  }
 },
 "nbformat": 4,
 "nbformat_minor": 5
}
