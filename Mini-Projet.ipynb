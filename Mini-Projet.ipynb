{
 "cells": [
  {
   "cell_type": "code",
   "execution_count": 18,
   "id": "17133ea9",
   "metadata": {},
   "outputs": [
    {
     "name": "stdout",
     "output_type": "stream",
     "text": [
      "entrer une chaine de caractère: AZ 1234AS 2345jhzzjnfzkjbrbSQ 2890\n",
      "['SQ 2890']\n",
      "les numéros de plaques présents dans la chaine de caractère sont: \n",
      "SQ 2890\n"
     ]
    }
   ],
   "source": [
    "import re\n",
    "z = re.compile(\"([A-Z]{2}[ ][0-9]{4}$)\")\n",
    "valeur = True\n",
    "matriculation = input(\"entrer une chaine de caractère: \")\n",
    "print(z.findall(matriculation))\n",
    "if(z.findall(matriculation)!=[]):\n",
    "    a = list(z.findall(matriculation))\n",
    "    print(\"les numéros de plaques présents dans la chaine de caractère sont: \")\n",
    "    for i in range (len(a)):\n",
    "        print(a[i])\n",
    "else: \n",
    "    valeur = False\n",
    "    print(\"rien n'a été trouvé\")"
   ]
  },
  {
   "cell_type": "code",
   "execution_count": null,
   "id": "ff2616ef",
   "metadata": {},
   "outputs": [],
   "source": []
  },
  {
   "cell_type": "code",
   "execution_count": null,
   "id": "0493f4a5",
   "metadata": {},
   "outputs": [],
   "source": []
  }
 ],
 "metadata": {
  "kernelspec": {
   "display_name": "Python 3",
   "language": "python",
   "name": "python3"
  },
  "language_info": {
   "codemirror_mode": {
    "name": "ipython",
    "version": 3
   },
   "file_extension": ".py",
   "mimetype": "text/x-python",
   "name": "python",
   "nbconvert_exporter": "python",
   "pygments_lexer": "ipython3",
   "version": "3.8.10"
  }
 },
 "nbformat": 4,
 "nbformat_minor": 5
}
