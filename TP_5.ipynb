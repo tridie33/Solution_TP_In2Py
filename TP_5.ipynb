{
 "cells": [
  {
   "cell_type": "markdown",
   "id": "f96a06a9",
   "metadata": {
    "id": "QYZn2ujP9tcA"
   },
   "source": [
    "\n",
    "\n",
    "### <center> <b> <span style=\"color:blue;\"> Travaux Pratiques: Fonctions</span> </b></center>\n",
    "\n"
   ]
  },
  {
   "cell_type": "markdown",
   "id": "ea47d91d",
   "metadata": {
    "id": "iMDzVKcl9tcE"
   },
   "source": [
    "#### **Exercice 00:**  \n",
    "> **Écrire une fonction `cube` qui retourne le cube de son argument.**"
   ]
  },
  {
   "cell_type": "code",
   "execution_count": null,
   "id": "22091261",
   "metadata": {},
   "outputs": [],
   "source": [
    "nb = input(\"entrer un nombre ou chiffe abeg : \")\n",
    "def function_cube(nb):\n",
    "    return int(nb)**3\n",
    "print(function_cube(nb))"
   ]
  },
  {
   "cell_type": "markdown",
   "id": "ac7e313f",
   "metadata": {
    "id": "m1ac89qS9tcH"
   },
   "source": [
    "#### **Exercice 01:**  \n",
    "> **Déclarez une fonction `ajouter_deux_nombres`. Elle prend deux paramètres et renvoie leur somme.**"
   ]
  },
  {
   "cell_type": "code",
   "execution_count": null,
   "id": "17929462",
   "metadata": {
    "id": "E_AgGmNy9tcH"
   },
   "outputs": [],
   "source": [
    "nb = input(\"entrer un premier nombre : \")\n",
    "n = input(\"entrer un second nombre : \")\n",
    "def ajouter_deux_nombre(nb, n):\n",
    "    return int(nb)+int(n)\n",
    "print(ajouter_deux_nombre(nb, n))"
   ]
  },
  {
   "cell_type": "markdown",
   "id": "7dfe2b64",
   "metadata": {
    "id": "PKjvAV4y9tcJ"
   },
   "source": [
    "#### **Exercice 02:**  \n",
    "> **L'aire d'un cercle se calcule comme suit : aire = pi x r x r avec pi=3,14. Écrivez une fonction `aire_du_cercle` qui prend le rayon en argument et calcule l'aire du cercle correspodant.**"
   ]
  },
  {
   "cell_type": "code",
   "execution_count": null,
   "id": "639a65ce",
   "metadata": {
    "id": "AxGzHKXX9tcL"
   },
   "outputs": [],
   "source": [
    "rayon = input(\"entrer le rayon de votre cercle :-)) \")\n",
    "pi = 3.14\n",
    "def aire_du_cercle(rayon):\n",
    "    aire = pi * float(rayon) * float(rayon)\n",
    "    return float(aire)\n",
    "print(aire_du_cercle(rayon)) "
   ]
  },
  {
   "cell_type": "markdown",
   "id": "ce32c5b3",
   "metadata": {
    "id": "6OBRL3oj9tcL"
   },
   "source": [
    "#### **Exercice 03:**  \n",
    "> **La température en °C peut être convertie en °F à l'aide de cette formule : °F = (°C x 9/5) + 32. Écrivez une fonction `convert_celsius_en_fahrenheit` qui convertit les °C en °F**."
   ]
  },
  {
   "cell_type": "code",
   "execution_count": null,
   "id": "b45039c5",
   "metadata": {
    "colab": {
     "base_uri": "https://localhost:8080/"
    },
    "id": "LpDPEBxn9tcN",
    "outputId": "7c62c4a2-828a-4eea-e995-a89e3acda0ed"
   },
   "outputs": [],
   "source": [
    "C=float(input('Enter the value in celsius '))\n",
    "def Fahre(C):\n",
    "  F=(C*9/5)+32\n",
    "  return F\n",
    "C\n",
    "print(Fahre(C))\n"
   ]
  },
  {
   "cell_type": "markdown",
   "id": "1b43d51b",
   "metadata": {
    "id": "rJRPsZ2h9tcP"
   },
   "source": [
    "#### **Exercice 04:** \n",
    ">**Écrire une fonction somme avec un argument « tuple de longueur variable » qui calcule la somme des nombres contenus dans le tuple.Tester cette fonction par des appels avec différents tuples d’entiers ou de flottants.**"
   ]
  },
  {
   "cell_type": "code",
   "execution_count": null,
   "id": "d745559a",
   "metadata": {
    "colab": {
     "base_uri": "https://localhost:8080/"
    },
    "id": "7qn8Czdc9tcP",
    "outputId": "998d9d34-3e4c-4a64-f02e-9faa0ff36abe"
   },
   "outputs": [],
   "source": [
    "\n",
    "def somme(a, b, c):\n",
    "    return a+b+c\n",
    "sequence = (2, 4, 6)\n",
    "print(\"la somme de la première séquence(entier) : \", somme(*sequence))\n",
    "sequence1 = (2.2, 3.6, 4.6)\n",
    "print(\"somme de la deuxième séquence(float) : \", somme(*sequence1))\n",
    "    "
   ]
  },
  {
   "cell_type": "markdown",
   "id": "1ac53c2a",
   "metadata": {
    "id": "kls1kYNh9tcR"
   },
   "source": [
    "#### **Exercice 05:** \n",
    ">**Ecrire `somme_liste` qui calcule la somme des nombres contenus dans une liste.Tester cette fonction par des appels avec différents listes d’entiers ou de flottants.**"
   ]
  },
  {
   "cell_type": "code",
   "execution_count": null,
   "id": "4a671691",
   "metadata": {},
   "outputs": [],
   "source": [
    "def somme_liste(liste):\n",
    "    _somme = 0\n",
    "    longueur = len(liste)\n",
    "    for i in range(longueur):\n",
    "        _somme = _somme + liste[i]\n",
    "    return _somme\n",
    "#sequence = [2, 5, 7, 9]\n",
    "#print(\"la somme de la première séquence(entier) : \", somme_liste(*sequence))\n",
    "#sequence1 = [2.2, 3.6, 4.6, 0]\n",
    "#print(\"somme de la deuxième séquence(float) : \", somme_liste(*sequence1))\n",
    "           \n",
    "        "
   ]
  },
  {
   "cell_type": "code",
   "execution_count": null,
   "id": "23814b83",
   "metadata": {},
   "outputs": [],
   "source": [
    "liste = [1, 2, 4, 5]\n",
    "liste2 = [1.1, 1.2, 1.5, 1.0]\n",
    "print(somme_liste(liste))\n",
    "print(somme_liste(liste2))"
   ]
  },
  {
   "cell_type": "markdown",
   "id": "da95f62a",
   "metadata": {
    "id": "l4gQECfk9tcS"
   },
   "source": [
    "#### **Exercice 06:** \n",
    ">**Écrire une fonction somme qui  prend en argument un entier $n$ et retourne la somme  des $n$-prémiers entiers naturels.**"
   ]
  },
  {
   "cell_type": "code",
   "execution_count": null,
   "id": "1a286a7d",
   "metadata": {},
   "outputs": [],
   "source": [
    "n = input(\"un entier svp : \")\n",
    "n = int(n)\n",
    "def somme(n):\n",
    "    som = 0\n",
    "    for i in range(n+1):\n",
    "        som += i\n",
    "    return int(som)\n",
    "print(somme(n))"
   ]
  },
  {
   "cell_type": "markdown",
   "id": "2b477f6d",
   "metadata": {
    "id": "tK9EsjZf9tcU"
   },
   "source": [
    "#### **Exercice 07:** \n",
    ">**Écrire une fonction `nom` qui demande à l'utilisateur d'entrer son nom ensuite son prénom et affiche son prénom suivit de son nom.**"
   ]
  },
  {
   "cell_type": "code",
   "execution_count": null,
   "id": "1b637d20",
   "metadata": {},
   "outputs": [],
   "source": [
    "def fonction_nom():\n",
    "    nom = input(\"entrer votre nom: \")\n",
    "    prenom = input(\"entrer votre prenom: \")\n",
    "    affichage = prenom + ' ' + nom\n",
    "    print(affichage)\n",
    "fonction_nom()    "
   ]
  },
  {
   "cell_type": "markdown",
   "id": "2572cb99",
   "metadata": {
    "id": "YSwrwcEz9tcX"
   },
   "source": [
    "#### **Exercice 08:** \n",
    ">**Écrire une fonction `nom` qui demande à l'utilisateur d'entrer son nom ensuite son prénom et affiche son prénom suivit de son nom.**"
   ]
  },
  {
   "cell_type": "code",
   "execution_count": null,
   "id": "fe15d149",
   "metadata": {
    "id": "mRk-8h1P9tcZ"
   },
   "outputs": [],
   "source": [
    "def fonction_nom():\n",
    "    nom = input(\"entrer votre nom: \")\n",
    "    prenom = input(\"entrer votre prenom: \")\n",
    "    affichage = prenom + ' ' + nom\n",
    "    print(affichage)\n",
    "fonction_nom()    "
   ]
  },
  {
   "cell_type": "markdown",
   "id": "c22d32c3",
   "metadata": {
    "id": "VYtzHXAd9tck"
   },
   "source": [
    "#### **Exercice 09:** \n",
    ">**Ecris une fonction `Maximum` qui renvoie le minimum de trois nombres.**"
   ]
  },
  {
   "cell_type": "code",
   "execution_count": null,
   "id": "3f38215b",
   "metadata": {},
   "outputs": [],
   "source": [
    "def Maximum (a, b, c):\n",
    "    a = input(\"nombre 1 : \")\n",
    "    a = int(a)\n",
    "    b = input(\"nombre 2 : \")\n",
    "    b = int(b)\n",
    "    c = input(\"nombre 3 : \")\n",
    "    c = int(c)\n",
    "    minimum = 0\n",
    "    minimum = int(minimum)\n",
    "    if a < b:\n",
    "        minimum = a\n",
    "    else:\n",
    "        minimum = b\n",
    "    if minimum < c:\n",
    "        minimum = minimum\n",
    "    else:\n",
    "        minimum = c\n",
    "        \n",
    "    return minimum    "
   ]
  },
  {
   "cell_type": "code",
   "execution_count": null,
   "id": "a233f301",
   "metadata": {},
   "outputs": [],
   "source": [
    "Maximum(a, b, c)"
   ]
  },
  {
   "cell_type": "raw",
   "id": "14707e37",
   "metadata": {
    "id": "gTpTAnGm9tcm"
   },
   "source": [
    "#### **Exercice 10:**\n",
    ">**Soit $f(x)=ax^2+bx+c$ un trinôme du second degré.**\n",
    " 1. **Ecris une fonction `Discriminant` qui calcule son discriminant.**\n",
    " 2. **Ecris ensuite une fonction `existence_des_racines_du_trinome` qui discute suivant les valeurs du discriminant, l'existence de ses racines.** \n"
   ]
  },
  {
   "cell_type": "code",
   "execution_count": 2,
   "id": "e8e887d2",
   "metadata": {
    "id": "S1uM-Jca9tcn"
   },
   "outputs": [],
   "source": [
    "from math import *\n",
    "def Discriminant(a, b, c):\n",
    "    discriminant = 0\n",
    "    discriminant = int(discriminant)\n",
    "    discriminant = b**2 - 4*a*c\n",
    "    return discriminant\n",
    "\n",
    "\n",
    "    "
   ]
  },
  {
   "cell_type": "code",
   "execution_count": 14,
   "id": "63103a67",
   "metadata": {},
   "outputs": [
    {
     "data": {
      "text/plain": [
       "61"
      ]
     },
     "execution_count": 14,
     "metadata": {},
     "output_type": "execute_result"
    }
   ],
   "source": [
    "Discriminant(5, 9, 1)"
   ]
  },
  {
   "cell_type": "code",
   "execution_count": 11,
   "id": "9fb9371f",
   "metadata": {},
   "outputs": [],
   "source": [
    "def existence_des_racines_de_trinome(discriminant):\n",
    "    Discriminant(a, b, c)\n",
    "    discriminant = int(discriminant)\n",
    "    if discriminant == 0:\n",
    "        print(\"la racine de la fonction est: x = \",b/2*a )\n",
    "    if discriminant < 0:\n",
    "        print(\"la fonction n'admet pas de racine\")\n",
    "    if discriminant > 0:\n",
    "        print(\"la fonction admet deux racines distinct dont x1 = \", (b - sqrt(discriminant))/2*a, \"x2 =\", (b + sqrt(discriminant))/2*a)\n",
    "        \n",
    "        "
   ]
  },
  {
   "cell_type": "code",
   "execution_count": 12,
   "id": "0f784f7a",
   "metadata": {},
   "outputs": [
    {
     "ename": "NameError",
     "evalue": "name 'a' is not defined",
     "output_type": "error",
     "traceback": [
      "\u001b[0;31m---------------------------------------------------------------------------\u001b[0m",
      "\u001b[0;31mNameError\u001b[0m                                 Traceback (most recent call last)",
      "\u001b[0;32m<ipython-input-12-f1acfccae2a7>\u001b[0m in \u001b[0;36m<module>\u001b[0;34m\u001b[0m\n\u001b[1;32m      1\u001b[0m \u001b[0mDiscriminant\u001b[0m\u001b[0;34m(\u001b[0m\u001b[0;36m3\u001b[0m\u001b[0;34m,\u001b[0m \u001b[0;36m4\u001b[0m\u001b[0;34m,\u001b[0m \u001b[0;36m5\u001b[0m\u001b[0;34m)\u001b[0m\u001b[0;34m\u001b[0m\u001b[0;34m\u001b[0m\u001b[0m\n\u001b[0;32m----> 2\u001b[0;31m \u001b[0mexistence_des_racines_de_trinome\u001b[0m \u001b[0;34m(\u001b[0m\u001b[0;36m78\u001b[0m\u001b[0;34m)\u001b[0m\u001b[0;34m\u001b[0m\u001b[0;34m\u001b[0m\u001b[0m\n\u001b[0m",
      "\u001b[0;32m<ipython-input-11-8015b7116159>\u001b[0m in \u001b[0;36mexistence_des_racines_de_trinome\u001b[0;34m(discriminant)\u001b[0m\n\u001b[1;32m      1\u001b[0m \u001b[0;32mdef\u001b[0m \u001b[0mexistence_des_racines_de_trinome\u001b[0m\u001b[0;34m(\u001b[0m\u001b[0mdiscriminant\u001b[0m\u001b[0;34m)\u001b[0m\u001b[0;34m:\u001b[0m\u001b[0;34m\u001b[0m\u001b[0;34m\u001b[0m\u001b[0m\n\u001b[0;32m----> 2\u001b[0;31m     \u001b[0mDiscriminant\u001b[0m\u001b[0;34m(\u001b[0m\u001b[0ma\u001b[0m\u001b[0;34m,\u001b[0m \u001b[0mb\u001b[0m\u001b[0;34m,\u001b[0m \u001b[0mc\u001b[0m\u001b[0;34m)\u001b[0m\u001b[0;34m\u001b[0m\u001b[0;34m\u001b[0m\u001b[0m\n\u001b[0m\u001b[1;32m      3\u001b[0m     \u001b[0mdiscriminant\u001b[0m \u001b[0;34m=\u001b[0m \u001b[0mint\u001b[0m\u001b[0;34m(\u001b[0m\u001b[0mdiscriminant\u001b[0m\u001b[0;34m)\u001b[0m\u001b[0;34m\u001b[0m\u001b[0;34m\u001b[0m\u001b[0m\n\u001b[1;32m      4\u001b[0m     \u001b[0;32mif\u001b[0m \u001b[0mdiscriminant\u001b[0m \u001b[0;34m==\u001b[0m \u001b[0;36m0\u001b[0m\u001b[0;34m:\u001b[0m\u001b[0;34m\u001b[0m\u001b[0;34m\u001b[0m\u001b[0m\n\u001b[1;32m      5\u001b[0m         \u001b[0mprint\u001b[0m\u001b[0;34m(\u001b[0m\u001b[0;34m\"la racine de la fonction est: x = \"\u001b[0m\u001b[0;34m,\u001b[0m\u001b[0mb\u001b[0m\u001b[0;34m/\u001b[0m\u001b[0;36m2\u001b[0m\u001b[0;34m*\u001b[0m\u001b[0ma\u001b[0m \u001b[0;34m)\u001b[0m\u001b[0;34m\u001b[0m\u001b[0;34m\u001b[0m\u001b[0m\n",
      "\u001b[0;31mNameError\u001b[0m: name 'a' is not defined"
     ]
    }
   ],
   "source": [
    "Discriminant(3, 4, 5)\n",
    "existence_des_racines_de_trinome (78)"
   ]
  },
  {
   "cell_type": "markdown",
   "id": "4446ed82",
   "metadata": {
    "id": "WgJ06GHA9tcn"
   },
   "source": [
    "#### **Exercice 11:**\n",
    ">**Ecris une fonction qui affiche le reste de la division euclidienne d'un entier naturel $a$ par un entier naturel $b$**.\n"
   ]
  },
  {
   "cell_type": "code",
   "execution_count": 3,
   "id": "b8b1c461",
   "metadata": {},
   "outputs": [
    {
     "name": "stdout",
     "output_type": "stream",
     "text": [
      "nombre 1 : 3\n",
      "nombre 2 : 9\n"
     ]
    }
   ],
   "source": [
    "a = input(\"nombre 1 : \")\n",
    "a = int(a)\n",
    "b = input(\"nombre 2 : \")\n",
    "b = int(b)\n",
    "def reste(a, b):\n",
    "    return a % b"
   ]
  },
  {
   "cell_type": "code",
   "execution_count": 4,
   "id": "d38e3b46",
   "metadata": {},
   "outputs": [
    {
     "data": {
      "text/plain": [
       "3"
      ]
     },
     "execution_count": 4,
     "metadata": {},
     "output_type": "execute_result"
    }
   ],
   "source": [
    "reste(a, b)"
   ]
  },
  {
   "cell_type": "markdown",
   "id": "b58e82c5",
   "metadata": {
    "id": "dtC_cOVJ9tco"
   },
   "source": [
    "#### **Exercice 12:**\n",
    ">**Ecris une fonction `terme_suite_geometrique` qui affiche le n-ième terme d'une suite géométrique $(v_n)$ de premier terme $v_0$ et de raison $q$. Teste ce programme pour $v_0=2, q=3$ et $n=4$.**"
   ]
  },
  {
   "cell_type": "code",
   "execution_count": 7,
   "id": "16e8f3cd",
   "metadata": {
    "id": "TeLDRV8N9tco"
   },
   "outputs": [
    {
     "name": "stdout",
     "output_type": "stream",
     "text": [
      "14\n"
     ]
    }
   ],
   "source": [
    "def terme_suite_geometrique(v_0, q, n):\n",
    "    #v_0 = input(\"entrer le premier terme: \")\n",
    "    #q = input(\"entrer la raison: \")\n",
    "    #n= input(\"entrer le n-ième: \")\n",
    "    #for n in range(21):\n",
    "    return v_0 + n*q\n",
    "print(terme_suite_geometrique(2, 3, 4))"
   ]
  },
  {
   "cell_type": "markdown",
   "id": "dc950803",
   "metadata": {
    "id": "GrmGuHwu9tco"
   },
   "source": [
    "#### **Exercice 13:**\n",
    ">**Écris une fonction `merci` prend en paramètre un `nom` et renvoie le message \"Merci pour votre présence à cet atelier,`nom`.**\n"
   ]
  },
  {
   "cell_type": "code",
   "execution_count": 1,
   "id": "58740f9a",
   "metadata": {},
   "outputs": [
    {
     "name": "stdout",
     "output_type": "stream",
     "text": [
      "entrer le nom : Diane\n",
      "Merci pour votre présence à cet atelier, Diane\n"
     ]
    }
   ],
   "source": [
    "nom = input(\"entrer le nom : \")\n",
    "def merci(nom):\n",
    "    nom = str(nom)\n",
    "    return nom\n",
    "\n",
    "print(\"Merci pour votre présence à cet atelier,\", merci(nom))"
   ]
  },
  {
   "cell_type": "markdown",
   "id": "87fe0e76",
   "metadata": {
    "id": "T3jopRLc9tco"
   },
   "source": [
    "# **Exercice 14:**\n",
    ">**Écris une fonction `ma_suite` qui définit la suite $(u_n)$ telle que  $$u_{n}=\\frac{2n^2+3n-1}{n+6}.$$\n",
    "Affiche son 5e terme.**\n"
   ]
  },
  {
   "cell_type": "code",
   "execution_count": 2,
   "id": "6f052fbd",
   "metadata": {
    "id": "P1l82riw9tcp"
   },
   "outputs": [
    {
     "name": "stdout",
     "output_type": "stream",
     "text": [
      "le cinquième thème est u_{5} =   15.2\n"
     ]
    }
   ],
   "source": [
    "def ma_suite():\n",
    "    n = 5 \n",
    "    u = (2**n + 3*n - 1) / n + 6\n",
    "    return u\n",
    "\n",
    "print(\"le cinquième thème est u_{5} =  \", ma_suite())"
   ]
  },
  {
   "cell_type": "markdown",
   "id": "6b11bc61",
   "metadata": {
    "id": "SIizzU_A9tcp"
   },
   "source": [
    "\n",
    "\n",
    "<center> <b> <span style=\"color:orange;\"> 🎉 FÉLICITATIONS ! 🎉 </span> </b></center>"
   ]
  }
 ],
 "metadata": {
  "colab": {
   "collapsed_sections": [],
   "name": "In2Py_TP_05.ipynb",
   "provenance": []
  },
  "kernelspec": {
   "display_name": "Python 3",
   "language": "python",
   "name": "python3"
  },
  "language_info": {
   "codemirror_mode": {
    "name": "ipython",
    "version": 3
   },
   "file_extension": ".py",
   "mimetype": "text/x-python",
   "name": "python",
   "nbconvert_exporter": "python",
   "pygments_lexer": "ipython3",
   "version": "3.8.10"
  }
 },
 "nbformat": 4,
 "nbformat_minor": 5
}
