{
 "cells": [
  {
   "cell_type": "markdown",
   "metadata": {
    "id": "QTGiuJVPhPxl"
   },
   "source": [
    "\n",
    "\n",
    "### <center> <b> <span style=\"color:blue;\"> Travaux Pratiques: Boucles </span> </b></center>\n"
   ]
  },
  {
   "cell_type": "markdown",
   "metadata": {
    "id": "6f-8X1xjhV4p"
   },
   "source": [
    "#### Exercice 0\n",
    ">On se propose de résoudre dans l'ensemble des entiers naturels l'inéquation $2n(n+1)<100$.\n",
    "En utilisant une boucle **While**, écris un programme qui renvoie les solutions entières de cette inéquation."
   ]
  },
  {
   "cell_type": "markdown",
   "metadata": {
    "id": "USaieP9c9Nc5"
   },
   "source": [
    "#### Exercice 1\n",
    "> En utilisant une boucle **For**, écris un programme qui calcule la somme des 30 premiers entiers naturels non nuls."
   ]
  },
  {
   "cell_type": "code",
   "execution_count": null,
   "metadata": {
    "id": "-a76WFyH9Nc7"
   },
   "outputs": [],
   "source": [
    "som = 0\n",
    "som = int(som)\n",
    "for i in range(30):\n",
    "    som += i \n",
    "    \n",
    "print(som)"
   ]
  },
  {
   "cell_type": "markdown",
   "metadata": {
    "id": "_070Czs09Nc8"
   },
   "source": [
    "#### Exercice 2\n",
    ">Refais l'exercice 1 en utilisant une boucle **While**."
   ]
  },
  {
   "cell_type": "code",
   "execution_count": null,
   "metadata": {
    "id": "83HZ7Cc2FxUe"
   },
   "outputs": [],
   "source": [
    "som = 0\n",
    "som = int(som)\n",
    "i = 0\n",
    "i = int(i)\n",
    "while i < 30:\n",
    "    som += i\n",
    "print(som)"
   ]
  },
  {
   "cell_type": "markdown",
   "metadata": {
    "id": "Hg1vBggc9Nc_"
   },
   "source": [
    "#### Exercice 3\n",
    ">En utilisant une boucle **For**, écris un programme qui calcule le produit des 9 premiers entiers naturels non nuls."
   ]
  },
  {
   "cell_type": "code",
   "execution_count": null,
   "metadata": {
    "id": "h0TkyvqS9NdB"
   },
   "outputs": [],
   "source": [
    "produit = 1\n",
    "produit = int(produit)\n",
    "i=1\n",
    "for i in range(9):\n",
    "    produit *= 9\n",
    "print(produit)    "
   ]
  },
  {
   "cell_type": "markdown",
   "metadata": {
    "id": "a2iZm5y_9NdD"
   },
   "source": [
    "#### Exercice 4\n",
    "> Refais l'exercice 3 en utilisant une boucle **While**."
   ]
  },
  {
   "cell_type": "code",
   "execution_count": null,
   "metadata": {},
   "outputs": [],
   "source": [
    "produit = 1\n",
    "produit = int(produit)\n",
    "i=1\n",
    "while i < 9:\n",
    "    produit *= 9\n",
    "    i+=1\n",
    "print(produit)    "
   ]
  },
  {
   "cell_type": "markdown",
   "metadata": {
    "id": "rb3k7Bve9NdE"
   },
   "source": [
    "#### Exercice 5 \n",
    ">Écris un programme qui demande à l'utilisateur de saisir un nombre n et qui affiche tous les nombres pairs de $1$ à $n$ en utilisant la boucle **For**."
   ]
  },
  {
   "cell_type": "code",
   "execution_count": null,
   "metadata": {
    "id": "ibXs9RCB9NdF"
   },
   "outputs": [],
   "source": [
    "n = input(\"entrer un nombre svp : \")\n",
    "n = int(n)\n",
    "i = 1\n",
    "for i in range(n):\n",
    "    if i%2 == 0:\n",
    "        print(i)"
   ]
  },
  {
   "cell_type": "markdown",
   "metadata": {
    "id": "HPC3bfyE9NdG"
   },
   "source": [
    "#### Exercice 6\n",
    ">Refais l'exercice 5 en utilisant la boucle **While**."
   ]
  },
  {
   "cell_type": "code",
   "execution_count": null,
   "metadata": {
    "id": "dRuTyo3m9NdH"
   },
   "outputs": [],
   "source": [
    "n = input(\"entrer un nombre svp : \")\n",
    "n = int(n)\n",
    "i = 1\n",
    "while i < n:\n",
    "    if i%2 == 0:\n",
    "        print(i)\n",
    "    i+=1"
   ]
  },
  {
   "cell_type": "markdown",
   "metadata": {
    "id": "6fNPIIdQ9NdH"
   },
   "source": [
    "#### Exercice 7\n",
    ">Écris un programme qui demande à l'utilisateur de saisir un nombre n et qui affiche tous les nombres impairs de 1 à n en utilisant la boucle **For**."
   ]
  },
  {
   "cell_type": "code",
   "execution_count": null,
   "metadata": {
    "id": "LuVEv9Lc9NdI"
   },
   "outputs": [],
   "source": [
    "n = input(\"entrer un nombre svp : \")\n",
    "n = int(n)\n",
    "i = 1\n",
    "for i in range(n):\n",
    "    if i%2 == 1:\n",
    "        print(i)"
   ]
  },
  {
   "cell_type": "markdown",
   "metadata": {
    "id": "HIlapsJ89NdK"
   },
   "source": [
    "#### Exercice 8\n",
    ">Refais l'exercice 7 en utilisant la boucle **While**.\n",
    "\n"
   ]
  },
  {
   "cell_type": "code",
   "execution_count": null,
   "metadata": {
    "id": "Igvjeb2E9NdM"
   },
   "outputs": [],
   "source": [
    "n = input(\"entrer un nombre svp : \")\n",
    "n = int(n)\n",
    "i = 1\n",
    "while i < n:\n",
    "    if i%2 == 1:\n",
    "        print(i)\n",
    "    i+=1"
   ]
  },
  {
   "cell_type": "markdown",
   "metadata": {
    "id": "KOYLg_e79NdU"
   },
   "source": [
    "#### Exercice 9\n",
    ">Écris un programme qui demande à l'utilisateur de saisir un nombre n et qui affiche sa table de multiplication  en utilisant la boucle **For**."
   ]
  },
  {
   "cell_type": "code",
   "execution_count": null,
   "metadata": {
    "id": "BvOU9oLw9NdU"
   },
   "outputs": [],
   "source": [
    "n = input(\"entrer un nombre svp : \")\n",
    "n = int(n)\n",
    "for i in range(13):\n",
    "    print(n, \"*\", i, \"=\", n*i)\n",
    "    "
   ]
  },
  {
   "cell_type": "markdown",
   "metadata": {
    "id": "Ukzy78L09NdV"
   },
   "source": [
    "#### Exercice 10\n",
    ">Refais l'exercice 9 en utilisant la boucle **While**."
   ]
  },
  {
   "cell_type": "code",
   "execution_count": null,
   "metadata": {
    "id": "fRJ3oufC9NdV"
   },
   "outputs": [],
   "source": [
    "n = input(\"entrer un nombre svp : \")\n",
    "n = int(n)\n",
    "i = 1\n",
    "i = int(i)\n",
    "while i < 13:\n",
    "    print(n, \"*\", i, \"=\", n*i)\n",
    "    i+=1\n",
    "    "
   ]
  },
  {
   "cell_type": "markdown",
   "metadata": {
    "id": "AQW435Hq9NdW"
   },
   "source": [
    "#### Exercice 11\n",
    ">Écris un programme qui demande à l'utilisateur d'entrer un nombre et de trouver tous ses diviseurs  en utilisant la boucle **For**."
   ]
  },
  {
   "cell_type": "code",
   "execution_count": null,
   "metadata": {
    "id": "Zjs_NfT89NdX"
   },
   "outputs": [],
   "source": [
    "n = input(\"entrer un nombre svp : \")\n",
    "n = int(n)\n",
    "n_diviseur = 0\n",
    "for i in range(n):\n",
    "    if n%i==0:\n",
    "    n_diviseur += 1\n",
    "print(n_diviseur)"
   ]
  },
  {
   "cell_type": "markdown",
   "metadata": {
    "id": "pGp6labk9NdX"
   },
   "source": [
    "#### Exercice 12\n",
    ">Écris un programme qui demande à l'utilisateur d'entrer un entier naturel n et de trouver tous sa factorielle n!  en utilisant la boucle **For**. On rappelle que $n!=n*(n-1)*(n-2)...3*2*1$."
   ]
  },
  {
   "cell_type": "code",
   "execution_count": null,
   "metadata": {
    "id": "iDw3TKDU9NdX"
   },
   "outputs": [],
   "source": []
  },
  {
   "cell_type": "markdown",
   "metadata": {
    "id": "eyKh1oTo9NdY"
   },
   "source": [
    "#### Exercice 13\n",
    ">Écris un programme qui demande à l'utilisateur d'entrer deux entiers naturels (plus petits que 15) et de trouver leur plus petit commun multiple utilisant la boucle **For**."
   ]
  },
  {
   "cell_type": "markdown",
   "metadata": {
    "id": "j4zO7-ak9NdZ"
   },
   "source": [
    "#### Exercice 14\n",
    ">Écris un programme pour afficher la série de Fibonacci jusqu'à n termes en utilisant une boucle."
   ]
  },
  {
   "cell_type": "code",
   "execution_count": 11,
   "metadata": {
    "id": "5UknLOdY9NdZ"
   },
   "outputs": [
    {
     "name": "stdout",
     "output_type": "stream",
     "text": [
      "Entrez un nombre: 3\n",
      "\n",
      " la suite fibonacci est :\n",
      "0 , 1, 1, "
     ]
    }
   ],
   "source": [
    "nterms = int(input(\"Entrez un nombre: \"))\n",
    " \n",
    "n1 = 0\n",
    "n2 = 1\n",
    " \n",
    "print(\"\\n la suite fibonacci est :\")\n",
    "print(n1, \",\", n2, end=\", \")\n",
    " \n",
    "for i in range(2, nterms):\n",
    "    suivant = n1 + n2\n",
    "    print(suivant, end=\", \")\n",
    "    n1 = n2\n",
    "    n2 = suivant"
   ]
  },
  {
   "cell_type": "markdown",
   "metadata": {
    "id": "_RBVFZdl9Nda"
   },
   "source": [
    "#### Exercice 15\n",
    ">Écris, en utilisant une boucle **For**, un programme pour afficher 5 fois de suite le message \"Python est un très bon langage de programmation\"."
   ]
  },
  {
   "cell_type": "markdown",
   "metadata": {
    "id": "VUgurSg59Nda"
   },
   "source": [
    "#### Exercice 16\n",
    ">Écris, en utilisant une boucle **While**, un programme pour afficher 7 fois de suite le message \"A cette allure je finirai par tout abandonner pour la programmation\"."
   ]
  },
  {
   "cell_type": "code",
   "execution_count": 2,
   "metadata": {
    "id": "TgE99bdh9Ndb"
   },
   "outputs": [
    {
     "name": "stdout",
     "output_type": "stream",
     "text": [
      "A cette allure je finirai par tout abandonner pour la programmation\n",
      "A cette allure je finirai par tout abandonner pour la programmation\n",
      "A cette allure je finirai par tout abandonner pour la programmation\n",
      "A cette allure je finirai par tout abandonner pour la programmation\n",
      "A cette allure je finirai par tout abandonner pour la programmation\n",
      "A cette allure je finirai par tout abandonner pour la programmation\n",
      "A cette allure je finirai par tout abandonner pour la programmation\n"
     ]
    }
   ],
   "source": [
    "i=0\n",
    "while i < 7:\n",
    "    print(\"A cette allure je finirai par tout abandonner pour la programmation\")\n",
    "    i+=1\n"
   ]
  },
  {
   "cell_type": "markdown",
   "metadata": {
    "id": "DVgTXQRX9Ndb"
   },
   "source": [
    "#### Exercice 17\n",
    ">Écris, en utilisant une boucle **For**, un programme qui compte à l'envers de 10 à 0 puis qui affiche le message \"Partez\".\n"
   ]
  },
  {
   "cell_type": "code",
   "execution_count": 4,
   "metadata": {
    "id": "w4L4KV6C9Ndc"
   },
   "outputs": [
    {
     "ename": "SyntaxError",
     "evalue": "invalid syntax (<ipython-input-4-e44422c3165c>, line 1)",
     "output_type": "error",
     "traceback": [
      "\u001b[0;36m  File \u001b[0;32m\"<ipython-input-4-e44422c3165c>\"\u001b[0;36m, line \u001b[0;32m1\u001b[0m\n\u001b[0;31m    for 10 in range(0)\u001b[0m\n\u001b[0m                      ^\u001b[0m\n\u001b[0;31mSyntaxError\u001b[0m\u001b[0;31m:\u001b[0m invalid syntax\n"
     ]
    }
   ],
   "source": [
    "\n",
    "for 10 in range(0)\n",
    "\n",
    "print(\"partez\")"
   ]
  },
  {
   "cell_type": "markdown",
   "metadata": {
    "id": "raJAaAd29Ndc"
   },
   "source": [
    "#### Exercice 18\n",
    ">Écris, en utilisant une boucle **For**, un programme qui affiche chaque élément d'une chaine de caractère."
   ]
  },
  {
   "cell_type": "code",
   "execution_count": null,
   "metadata": {},
   "outputs": [],
   "source": [
    "chaine = \"rentrer chez vous\"\n",
    "for lettre in chaine:\n",
    "    print(lettre)"
   ]
  },
  {
   "cell_type": "markdown",
   "metadata": {
    "id": "095_Dtoc9Ndf"
   },
   "source": [
    "#### Exercice 19\n",
    ">Écris, en utilisant une boucle **For**, un programme qui compte à l'envers de 10 à 0 puis qui affiche le message \"Partez\"."
   ]
  },
  {
   "cell_type": "code",
   "execution_count": null,
   "metadata": {
    "id": "MOV4pZzn9Ndg"
   },
   "outputs": [],
   "source": []
  },
  {
   "cell_type": "markdown",
   "metadata": {
    "id": "5sUU7dgJ9Ndh"
   },
   "source": [
    "<center> <b> <span style=\"color:orange;\"> 🎉 FÉLICITATIONS ! 🎉 </span> </b></center>"
   ]
  }
 ],
 "metadata": {
  "colab": {
   "collapsed_sections": [],
   "name": "In2Py_TP_04.ipynb",
   "provenance": []
  },
  "kernelspec": {
   "display_name": "Python 3",
   "language": "python",
   "name": "python3"
  },
  "language_info": {
   "codemirror_mode": {
    "name": "ipython",
    "version": 3
   },
   "file_extension": ".py",
   "mimetype": "text/x-python",
   "name": "python",
   "nbconvert_exporter": "python",
   "pygments_lexer": "ipython3",
   "version": "3.8.10"
  }
 },
 "nbformat": 4,
 "nbformat_minor": 1
}
